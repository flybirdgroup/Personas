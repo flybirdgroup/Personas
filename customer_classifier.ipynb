{
 "cells": [
  {
   "cell_type": "code",
   "execution_count": 1,
   "metadata": {},
   "outputs": [
    {
     "name": "stdout",
     "output_type": "stream",
     "text": [
      "Pretty printing has been turned OFF\n"
     ]
    }
   ],
   "source": [
    "import pandas as pd\n",
    "%config ZMQInteractiveShell.ast_node_interactivity='all'\n",
    "%pprint\n",
    "import warnings \n",
    "warnings.filterwarnings('ignore')"
   ]
  },
  {
   "cell_type": "code",
   "execution_count": 28,
   "metadata": {},
   "outputs": [],
   "source": [
    "import re\n",
    "import numpy as np\n",
    "import pandas as pd"
   ]
  },
  {
   "cell_type": "markdown",
   "metadata": {},
   "source": [
    "## 读取文本"
   ]
  },
  {
   "cell_type": "code",
   "execution_count": 3,
   "metadata": {},
   "outputs": [],
   "source": [
    "df_test = pd.read_csv('./data/test.csv',sep=\"###__###\",names=['ID','Query_List'])\n",
    "df_train = pd.read_csv('./data/train.csv',sep='###__###',names=['ID', 'Age', 'Gender', 'Education', 'Query_List'])"
   ]
  },
  {
   "cell_type": "code",
   "execution_count": 4,
   "metadata": {
    "scrolled": true
   },
   "outputs": [
    {
     "data": {
      "text/html": [
       "<div>\n",
       "<style scoped>\n",
       "    .dataframe tbody tr th:only-of-type {\n",
       "        vertical-align: middle;\n",
       "    }\n",
       "\n",
       "    .dataframe tbody tr th {\n",
       "        vertical-align: top;\n",
       "    }\n",
       "\n",
       "    .dataframe thead th {\n",
       "        text-align: right;\n",
       "    }\n",
       "</style>\n",
       "<table border=\"1\" class=\"dataframe\">\n",
       "  <thead>\n",
       "    <tr style=\"text-align: right;\">\n",
       "      <th></th>\n",
       "      <th>ID</th>\n",
       "      <th>Query_List</th>\n",
       "    </tr>\n",
       "  </thead>\n",
       "  <tbody>\n",
       "    <tr>\n",
       "      <th>0</th>\n",
       "      <td>ED89D43B9F602F96D96C25255F7C228C</td>\n",
       "      <td>陈学冬将出的作品\\t刘昊然与谭松韵\\t211学校的分数线\\t谁唱的味道好听\\t吻戏是真吻还是...</td>\n",
       "    </tr>\n",
       "    <tr>\n",
       "      <th>1</th>\n",
       "      <td>83C3B7B4AAF8074655A8079F561A76D6</td>\n",
       "      <td>e的0.0052次方\\tqq怎么快速提现\\t绝色倾城飞烟\\t马克思主义基本原理概论\\t康世恩...</td>\n",
       "    </tr>\n",
       "    <tr>\n",
       "      <th>2</th>\n",
       "      <td>CA9F675A024FB2353849350A35CF8B0F</td>\n",
       "      <td>黑暗文\\tlpl夏季赛\\t大富豪电玩城\\t英雄联盟之电竞称王\\t手机怎么扫描手机上的二维码\\...</td>\n",
       "    </tr>\n",
       "    <tr>\n",
       "      <th>3</th>\n",
       "      <td>DE45B5C4E57AAEBCF3FDFA2A774093BF</td>\n",
       "      <td>中秋水库钓鱼\\t鱼竿\\t用蚯蚓钓鱼怎样调漂\\t传统钓\\t3号鱼钩\\t鲫鱼汤的做法大全\\t鱼饵...</td>\n",
       "    </tr>\n",
       "    <tr>\n",
       "      <th>4</th>\n",
       "      <td>406A681FB3DF81EC0E561796AE50AE50</td>\n",
       "      <td>号码吉凶\\t退休干部死后配偶\\t郫县有哪些大学\\t胜利油田属于中石化还是中石油\\t苏珊米勒狮...</td>\n",
       "    </tr>\n",
       "  </tbody>\n",
       "</table>\n",
       "</div>"
      ],
      "text/plain": [
       "                                 ID  \\\n",
       "0  ED89D43B9F602F96D96C25255F7C228C   \n",
       "1  83C3B7B4AAF8074655A8079F561A76D6   \n",
       "2  CA9F675A024FB2353849350A35CF8B0F   \n",
       "3  DE45B5C4E57AAEBCF3FDFA2A774093BF   \n",
       "4  406A681FB3DF81EC0E561796AE50AE50   \n",
       "\n",
       "                                          Query_List  \n",
       "0  陈学冬将出的作品\\t刘昊然与谭松韵\\t211学校的分数线\\t谁唱的味道好听\\t吻戏是真吻还是...  \n",
       "1  e的0.0052次方\\tqq怎么快速提现\\t绝色倾城飞烟\\t马克思主义基本原理概论\\t康世恩...  \n",
       "2  黑暗文\\tlpl夏季赛\\t大富豪电玩城\\t英雄联盟之电竞称王\\t手机怎么扫描手机上的二维码\\...  \n",
       "3  中秋水库钓鱼\\t鱼竿\\t用蚯蚓钓鱼怎样调漂\\t传统钓\\t3号鱼钩\\t鲫鱼汤的做法大全\\t鱼饵...  \n",
       "4  号码吉凶\\t退休干部死后配偶\\t郫县有哪些大学\\t胜利油田属于中石化还是中石油\\t苏珊米勒狮...  "
      ]
     },
     "execution_count": 4,
     "metadata": {},
     "output_type": "execute_result"
    },
    {
     "data": {
      "text/html": [
       "<div>\n",
       "<style scoped>\n",
       "    .dataframe tbody tr th:only-of-type {\n",
       "        vertical-align: middle;\n",
       "    }\n",
       "\n",
       "    .dataframe tbody tr th {\n",
       "        vertical-align: top;\n",
       "    }\n",
       "\n",
       "    .dataframe thead th {\n",
       "        text-align: right;\n",
       "    }\n",
       "</style>\n",
       "<table border=\"1\" class=\"dataframe\">\n",
       "  <thead>\n",
       "    <tr style=\"text-align: right;\">\n",
       "      <th></th>\n",
       "      <th>ID</th>\n",
       "      <th>Age</th>\n",
       "      <th>Gender</th>\n",
       "      <th>Education</th>\n",
       "      <th>Query_List</th>\n",
       "    </tr>\n",
       "  </thead>\n",
       "  <tbody>\n",
       "    <tr>\n",
       "      <th>0</th>\n",
       "      <td>22DD920316420BE2DF8D6EE651BA174B</td>\n",
       "      <td>1</td>\n",
       "      <td>1</td>\n",
       "      <td>4</td>\n",
       "      <td>柔和双沟\\t女生\\t中财网首页 财经\\thttp://pan.baidu.com/s/1pl...</td>\n",
       "    </tr>\n",
       "    <tr>\n",
       "      <th>1</th>\n",
       "      <td>43CC3AF5A8D6430A3B572337A889AFE4</td>\n",
       "      <td>2</td>\n",
       "      <td>1</td>\n",
       "      <td>3</td>\n",
       "      <td>广州厨宝烤箱\\t世情薄,人情恶,雨送黄昏花易落,晓风干,泪痕\\t厦门酒店用品批发市场\\t我只...</td>\n",
       "    </tr>\n",
       "    <tr>\n",
       "      <th>2</th>\n",
       "      <td>E97654BFF5570E2CCD433EA6128EAC19</td>\n",
       "      <td>4</td>\n",
       "      <td>1</td>\n",
       "      <td>0</td>\n",
       "      <td>钻石之泪耳机\\t盘锦到沈阳\\t旅顺公交\\t辽宁阜新车牌\\tbaidu\\tk715\\tk716...</td>\n",
       "    </tr>\n",
       "    <tr>\n",
       "      <th>3</th>\n",
       "      <td>6931EFC26D229CCFCEA125D3F3C21E57</td>\n",
       "      <td>4</td>\n",
       "      <td>2</td>\n",
       "      <td>3</td>\n",
       "      <td>最受欢迎狗狗排行榜\\t舶怎么读\\t场景描 写范例\\t三维绘图软件\\t枣和酸奶能一起吃吗\\t好...</td>\n",
       "    </tr>\n",
       "    <tr>\n",
       "      <th>4</th>\n",
       "      <td>E780470C3BB0D340334BD08CDCC3C71A</td>\n",
       "      <td>2</td>\n",
       "      <td>2</td>\n",
       "      <td>4</td>\n",
       "      <td>干槽症能自愈吗\\t太太万岁叶舒心去没去美国\\t干槽症\\t右眼皮下面一直跳是怎么回事\\t麦当劳...</td>\n",
       "    </tr>\n",
       "    <tr>\n",
       "      <th>5</th>\n",
       "      <td>5BB424C7298B2CB67C368DDB73D4D336</td>\n",
       "      <td>4</td>\n",
       "      <td>2</td>\n",
       "      <td>0</td>\n",
       "      <td>钢琴曲欣赏100首\\t一个月的宝宝眼睫毛那么是黄色\\t宝宝右眼有眼屎\\t小儿抽搐怎么办\\t剖...</td>\n",
       "    </tr>\n",
       "    <tr>\n",
       "      <th>6</th>\n",
       "      <td>0D58894CD481D4B3039000661665C0DB</td>\n",
       "      <td>3</td>\n",
       "      <td>2</td>\n",
       "      <td>3</td>\n",
       "      <td>貔貅饲育指南\\t韩姨\\t贵阳学古琴\\t洛基\\t风速狗\\t综英美]店主不好吃\\t&gt;重生之被拐儿...</td>\n",
       "    </tr>\n",
       "    <tr>\n",
       "      <th>7</th>\n",
       "      <td>0BA56489237BC91353300BE44298C6D8</td>\n",
       "      <td>6</td>\n",
       "      <td>1</td>\n",
       "      <td>0</td>\n",
       "      <td>昂的笔顺\\t三年级上册数学口算\\t牛的英语怎么读\\t抓木机\\t60米差不多跑多长时间\\t似乎...</td>\n",
       "    </tr>\n",
       "    <tr>\n",
       "      <th>8</th>\n",
       "      <td>3D39C1B9312105E030B039CCDCD79611</td>\n",
       "      <td>1</td>\n",
       "      <td>1</td>\n",
       "      <td>5</td>\n",
       "      <td>李明霖在哪直播\\t英文翻译\\t薄荷籽\\t为什么搜狐视频不能缓存\\t有一首歌女生唱的歌词是冬天...</td>\n",
       "    </tr>\n",
       "    <tr>\n",
       "      <th>9</th>\n",
       "      <td>93174489E2E708BF6F797DC69F1531A8</td>\n",
       "      <td>1</td>\n",
       "      <td>1</td>\n",
       "      <td>5</td>\n",
       "      <td>bft20\\t龙王传说\\t长治到成都可以怎么坐火车\\t龙王传说txt\\t2 4 8 16老司...</td>\n",
       "    </tr>\n",
       "  </tbody>\n",
       "</table>\n",
       "</div>"
      ],
      "text/plain": [
       "                                 ID  Age  Gender  Education  \\\n",
       "0  22DD920316420BE2DF8D6EE651BA174B    1       1          4   \n",
       "1  43CC3AF5A8D6430A3B572337A889AFE4    2       1          3   \n",
       "2  E97654BFF5570E2CCD433EA6128EAC19    4       1          0   \n",
       "3  6931EFC26D229CCFCEA125D3F3C21E57    4       2          3   \n",
       "4  E780470C3BB0D340334BD08CDCC3C71A    2       2          4   \n",
       "5  5BB424C7298B2CB67C368DDB73D4D336    4       2          0   \n",
       "6  0D58894CD481D4B3039000661665C0DB    3       2          3   \n",
       "7  0BA56489237BC91353300BE44298C6D8    6       1          0   \n",
       "8  3D39C1B9312105E030B039CCDCD79611    1       1          5   \n",
       "9  93174489E2E708BF6F797DC69F1531A8    1       1          5   \n",
       "\n",
       "                                          Query_List  \n",
       "0  柔和双沟\\t女生\\t中财网首页 财经\\thttp://pan.baidu.com/s/1pl...  \n",
       "1  广州厨宝烤箱\\t世情薄,人情恶,雨送黄昏花易落,晓风干,泪痕\\t厦门酒店用品批发市场\\t我只...  \n",
       "2  钻石之泪耳机\\t盘锦到沈阳\\t旅顺公交\\t辽宁阜新车牌\\tbaidu\\tk715\\tk716...  \n",
       "3  最受欢迎狗狗排行榜\\t舶怎么读\\t场景描 写范例\\t三维绘图软件\\t枣和酸奶能一起吃吗\\t好...  \n",
       "4  干槽症能自愈吗\\t太太万岁叶舒心去没去美国\\t干槽症\\t右眼皮下面一直跳是怎么回事\\t麦当劳...  \n",
       "5  钢琴曲欣赏100首\\t一个月的宝宝眼睫毛那么是黄色\\t宝宝右眼有眼屎\\t小儿抽搐怎么办\\t剖...  \n",
       "6  貔貅饲育指南\\t韩姨\\t贵阳学古琴\\t洛基\\t风速狗\\t综英美]店主不好吃\\t>重生之被拐儿...  \n",
       "7  昂的笔顺\\t三年级上册数学口算\\t牛的英语怎么读\\t抓木机\\t60米差不多跑多长时间\\t似乎...  \n",
       "8  李明霖在哪直播\\t英文翻译\\t薄荷籽\\t为什么搜狐视频不能缓存\\t有一首歌女生唱的歌词是冬天...  \n",
       "9  bft20\\t龙王传说\\t长治到成都可以怎么坐火车\\t龙王传说txt\\t2 4 8 16老司...  "
      ]
     },
     "execution_count": 4,
     "metadata": {},
     "output_type": "execute_result"
    }
   ],
   "source": [
    "df_test.head()\n",
    "df_train.head(10)"
   ]
  },
  {
   "cell_type": "markdown",
   "metadata": {},
   "source": [
    "## 查看用户数据,看数据均衡"
   ]
  },
  {
   "cell_type": "code",
   "execution_count": 5,
   "metadata": {},
   "outputs": [
    {
     "name": "stdout",
     "output_type": "stream",
     "text": [
      "<class 'pandas.core.frame.DataFrame'>\n",
      "RangeIndex: 100000 entries, 0 to 99999\n",
      "Data columns (total 5 columns):\n",
      "ID            100000 non-null object\n",
      "Age           100000 non-null int64\n",
      "Gender        100000 non-null int64\n",
      "Education     100000 non-null int64\n",
      "Query_List    100000 non-null object\n",
      "dtypes: int64(3), object(2)\n",
      "memory usage: 3.8+ MB\n"
     ]
    },
    {
     "data": {
      "text/html": [
       "<div>\n",
       "<style scoped>\n",
       "    .dataframe tbody tr th:only-of-type {\n",
       "        vertical-align: middle;\n",
       "    }\n",
       "\n",
       "    .dataframe tbody tr th {\n",
       "        vertical-align: top;\n",
       "    }\n",
       "\n",
       "    .dataframe thead th {\n",
       "        text-align: right;\n",
       "    }\n",
       "</style>\n",
       "<table border=\"1\" class=\"dataframe\">\n",
       "  <thead>\n",
       "    <tr style=\"text-align: right;\">\n",
       "      <th></th>\n",
       "      <th>Age</th>\n",
       "      <th>Gender</th>\n",
       "      <th>Education</th>\n",
       "    </tr>\n",
       "  </thead>\n",
       "  <tbody>\n",
       "    <tr>\n",
       "      <th>mean</th>\n",
       "      <td>2.08231</td>\n",
       "      <td>1.38714</td>\n",
       "      <td>3.90333</td>\n",
       "    </tr>\n",
       "    <tr>\n",
       "      <th>sum</th>\n",
       "      <td>208231.00000</td>\n",
       "      <td>138714.00000</td>\n",
       "      <td>390333.00000</td>\n",
       "    </tr>\n",
       "    <tr>\n",
       "      <th>median</th>\n",
       "      <td>2.00000</td>\n",
       "      <td>1.00000</td>\n",
       "      <td>4.00000</td>\n",
       "    </tr>\n",
       "    <tr>\n",
       "      <th>count</th>\n",
       "      <td>100000.00000</td>\n",
       "      <td>100000.00000</td>\n",
       "      <td>100000.00000</td>\n",
       "    </tr>\n",
       "  </tbody>\n",
       "</table>\n",
       "</div>"
      ],
      "text/plain": [
       "                 Age        Gender     Education\n",
       "mean         2.08231       1.38714       3.90333\n",
       "sum     208231.00000  138714.00000  390333.00000\n",
       "median       2.00000       1.00000       4.00000\n",
       "count   100000.00000  100000.00000  100000.00000"
      ]
     },
     "execution_count": 5,
     "metadata": {},
     "output_type": "execute_result"
    },
    {
     "data": {
      "text/plain": [
       "1    38996\n",
       "2    26744\n",
       "3    18529\n",
       "4    10654\n",
       "5     2922\n",
       "0     1666\n",
       "6      489\n",
       "Name: Age, dtype: int64"
      ]
     },
     "execution_count": 5,
     "metadata": {},
     "output_type": "execute_result"
    },
    {
     "data": {
      "text/plain": [
       "1    56976\n",
       "2    40869\n",
       "0     2155\n",
       "Name: Gender, dtype: int64"
      ]
     },
     "execution_count": 5,
     "metadata": {},
     "output_type": "execute_result"
    },
    {
     "data": {
      "text/plain": [
       "5    37107\n",
       "4    28148\n",
       "3    18858\n",
       "0     9280\n",
       "6     5693\n",
       "2      560\n",
       "1      354\n",
       "Name: Education, dtype: int64"
      ]
     },
     "execution_count": 5,
     "metadata": {},
     "output_type": "execute_result"
    }
   ],
   "source": [
    "df_train.info() # 数据没有缺失值\n",
    "df_train[['Age','Gender','Education']].agg(['mean','sum','median','count']) \n",
    "for i in ['Age','Gender','Education']:\n",
    "    df_train[i].value_counts()\n",
    "\n",
    "# 数据在Age=1的比较多, Gender=1比较多,education在5比较多,可以看出样本总体不均衡,所以训练模型的时候需要切分"
   ]
  },
  {
   "cell_type": "code",
   "execution_count": 22,
   "metadata": {},
   "outputs": [
    {
     "data": {
      "text/plain": [
       "1232.69503"
      ]
     },
     "execution_count": 22,
     "metadata": {},
     "output_type": "execute_result"
    }
   ],
   "source": [
    "np.mean(df_train['Query_List'].agg(lambda x: len(x)))"
   ]
  },
  {
   "cell_type": "markdown",
   "metadata": {},
   "source": [
    "## 清洗数据"
   ]
  },
  {
   "cell_type": "code",
   "execution_count": 23,
   "metadata": {},
   "outputs": [
    {
     "data": {
      "text/html": [
       "<div>\n",
       "<style scoped>\n",
       "    .dataframe tbody tr th:only-of-type {\n",
       "        vertical-align: middle;\n",
       "    }\n",
       "\n",
       "    .dataframe tbody tr th {\n",
       "        vertical-align: top;\n",
       "    }\n",
       "\n",
       "    .dataframe thead th {\n",
       "        text-align: right;\n",
       "    }\n",
       "</style>\n",
       "<table border=\"1\" class=\"dataframe\">\n",
       "  <thead>\n",
       "    <tr style=\"text-align: right;\">\n",
       "      <th></th>\n",
       "      <th>ID</th>\n",
       "      <th>Age</th>\n",
       "      <th>Gender</th>\n",
       "      <th>Education</th>\n",
       "      <th>Query_List</th>\n",
       "    </tr>\n",
       "  </thead>\n",
       "  <tbody>\n",
       "    <tr>\n",
       "      <th>0</th>\n",
       "      <td>22DD920316420BE2DF8D6EE651BA174B</td>\n",
       "      <td>1</td>\n",
       "      <td>1</td>\n",
       "      <td>4</td>\n",
       "      <td>柔和双沟\\t女生\\t中财网首页 财经\\thttp://pan.baidu.com/s/1pl...</td>\n",
       "    </tr>\n",
       "    <tr>\n",
       "      <th>1</th>\n",
       "      <td>43CC3AF5A8D6430A3B572337A889AFE4</td>\n",
       "      <td>2</td>\n",
       "      <td>1</td>\n",
       "      <td>3</td>\n",
       "      <td>广州厨宝烤箱\\t世情薄,人情恶,雨送黄昏花易落,晓风干,泪痕\\t厦门酒店用品批发市场\\t我只...</td>\n",
       "    </tr>\n",
       "    <tr>\n",
       "      <th>2</th>\n",
       "      <td>E97654BFF5570E2CCD433EA6128EAC19</td>\n",
       "      <td>4</td>\n",
       "      <td>1</td>\n",
       "      <td>0</td>\n",
       "      <td>钻石之泪耳机\\t盘锦到沈阳\\t旅顺公交\\t辽宁阜新车牌\\tbaidu\\tk715\\tk716...</td>\n",
       "    </tr>\n",
       "    <tr>\n",
       "      <th>3</th>\n",
       "      <td>6931EFC26D229CCFCEA125D3F3C21E57</td>\n",
       "      <td>4</td>\n",
       "      <td>2</td>\n",
       "      <td>3</td>\n",
       "      <td>最受欢迎狗狗排行榜\\t舶怎么读\\t场景描 写范例\\t三维绘图软件\\t枣和酸奶能一起吃吗\\t好...</td>\n",
       "    </tr>\n",
       "    <tr>\n",
       "      <th>4</th>\n",
       "      <td>E780470C3BB0D340334BD08CDCC3C71A</td>\n",
       "      <td>2</td>\n",
       "      <td>2</td>\n",
       "      <td>4</td>\n",
       "      <td>干槽症能自愈吗\\t太太万岁叶舒心去没去美国\\t干槽症\\t右眼皮下面一直跳是怎么回事\\t麦当劳...</td>\n",
       "    </tr>\n",
       "    <tr>\n",
       "      <th>...</th>\n",
       "      <td>...</td>\n",
       "      <td>...</td>\n",
       "      <td>...</td>\n",
       "      <td>...</td>\n",
       "      <td>...</td>\n",
       "    </tr>\n",
       "    <tr>\n",
       "      <th>99995</th>\n",
       "      <td>E797FFCDCAF3899AB4D17B61170D8BFF</td>\n",
       "      <td>1</td>\n",
       "      <td>1</td>\n",
       "      <td>5</td>\n",
       "      <td>梦三生\\t逆行天后漫画结局\\t英雄联盟角色介绍大全\\t韩剧网最新韩国电视剧\\t119宣传语是...</td>\n",
       "    </tr>\n",
       "    <tr>\n",
       "      <th>99996</th>\n",
       "      <td>E06375F7D092ABDE78C2D79E4725D6B0</td>\n",
       "      <td>1</td>\n",
       "      <td>1</td>\n",
       "      <td>5</td>\n",
       "      <td>中国军队配枪\\t女生\\t央视版权问题\\t重庆\\t一次性手术刀\\t精神枷锁\\t人民检察官\\t舆...</td>\n",
       "    </tr>\n",
       "    <tr>\n",
       "      <th>99997</th>\n",
       "      <td>D55119CB0B9366B20974522B58C00912</td>\n",
       "      <td>2</td>\n",
       "      <td>2</td>\n",
       "      <td>5</td>\n",
       "      <td>英文翻译\\t幼儿园面试讲课\\t学前教育书第二版\\tshock to\\t幼儿园教师资格证面试讲...</td>\n",
       "    </tr>\n",
       "    <tr>\n",
       "      <th>99998</th>\n",
       "      <td>EB4DBBD602C6459A19A77F09035E170C</td>\n",
       "      <td>3</td>\n",
       "      <td>2</td>\n",
       "      <td>3</td>\n",
       "      <td>哈尔滨祖研中医院地址\\t指甲盖侧面的肉怎么是白色\\t补骨质有副作用吗\\t哈尔滨去呼兰\\t黑龙...</td>\n",
       "    </tr>\n",
       "    <tr>\n",
       "      <th>99999</th>\n",
       "      <td>61CF81DB79423CB89E5DAA752BC4D9DD</td>\n",
       "      <td>1</td>\n",
       "      <td>2</td>\n",
       "      <td>5</td>\n",
       "      <td>陈翔毛晓彤分手\\t青春偶像剧校园电影\\t九尾狐家族\\t王俊凯小说\\t女娲的成长日记女娲变身\\...</td>\n",
       "    </tr>\n",
       "  </tbody>\n",
       "</table>\n",
       "<p>100000 rows × 5 columns</p>\n",
       "</div>"
      ],
      "text/plain": [
       "                                     ID  Age  Gender  Education  \\\n",
       "0      22DD920316420BE2DF8D6EE651BA174B    1       1          4   \n",
       "1      43CC3AF5A8D6430A3B572337A889AFE4    2       1          3   \n",
       "2      E97654BFF5570E2CCD433EA6128EAC19    4       1          0   \n",
       "3      6931EFC26D229CCFCEA125D3F3C21E57    4       2          3   \n",
       "4      E780470C3BB0D340334BD08CDCC3C71A    2       2          4   \n",
       "...                                 ...  ...     ...        ...   \n",
       "99995  E797FFCDCAF3899AB4D17B61170D8BFF    1       1          5   \n",
       "99996  E06375F7D092ABDE78C2D79E4725D6B0    1       1          5   \n",
       "99997  D55119CB0B9366B20974522B58C00912    2       2          5   \n",
       "99998  EB4DBBD602C6459A19A77F09035E170C    3       2          3   \n",
       "99999  61CF81DB79423CB89E5DAA752BC4D9DD    1       2          5   \n",
       "\n",
       "                                              Query_List  \n",
       "0      柔和双沟\\t女生\\t中财网首页 财经\\thttp://pan.baidu.com/s/1pl...  \n",
       "1      广州厨宝烤箱\\t世情薄,人情恶,雨送黄昏花易落,晓风干,泪痕\\t厦门酒店用品批发市场\\t我只...  \n",
       "2      钻石之泪耳机\\t盘锦到沈阳\\t旅顺公交\\t辽宁阜新车牌\\tbaidu\\tk715\\tk716...  \n",
       "3      最受欢迎狗狗排行榜\\t舶怎么读\\t场景描 写范例\\t三维绘图软件\\t枣和酸奶能一起吃吗\\t好...  \n",
       "4      干槽症能自愈吗\\t太太万岁叶舒心去没去美国\\t干槽症\\t右眼皮下面一直跳是怎么回事\\t麦当劳...  \n",
       "...                                                  ...  \n",
       "99995  梦三生\\t逆行天后漫画结局\\t英雄联盟角色介绍大全\\t韩剧网最新韩国电视剧\\t119宣传语是...  \n",
       "99996  中国军队配枪\\t女生\\t央视版权问题\\t重庆\\t一次性手术刀\\t精神枷锁\\t人民检察官\\t舆...  \n",
       "99997  英文翻译\\t幼儿园面试讲课\\t学前教育书第二版\\tshock to\\t幼儿园教师资格证面试讲...  \n",
       "99998  哈尔滨祖研中医院地址\\t指甲盖侧面的肉怎么是白色\\t补骨质有副作用吗\\t哈尔滨去呼兰\\t黑龙...  \n",
       "99999  陈翔毛晓彤分手\\t青春偶像剧校园电影\\t九尾狐家族\\t王俊凯小说\\t女娲的成长日记女娲变身\\...  \n",
       "\n",
       "[100000 rows x 5 columns]"
      ]
     },
     "execution_count": 23,
     "metadata": {},
     "output_type": "execute_result"
    }
   ],
   "source": [
    "df_train"
   ]
  },
  {
   "cell_type": "code",
   "execution_count": 34,
   "metadata": {},
   "outputs": [
    {
     "ename": "ParserError",
     "evalue": "Error tokenizing data. C error: EOF inside string starting at row 1",
     "output_type": "error",
     "traceback": [
      "\u001b[0;31m---------------------------------------------------------------------------\u001b[0m",
      "\u001b[0;31mParserError\u001b[0m                               Traceback (most recent call last)",
      "\u001b[0;32m<ipython-input-34-4ee443f00efc>\u001b[0m in \u001b[0;36m<module>\u001b[0;34m\u001b[0m\n\u001b[0;32m----> 1\u001b[0;31m \u001b[0mpd\u001b[0m\u001b[0;34m.\u001b[0m\u001b[0mread_csv\u001b[0m\u001b[0;34m(\u001b[0m\u001b[0;34m'./data/stop.txt'\u001b[0m\u001b[0;34m)\u001b[0m\u001b[0;34m\u001b[0m\u001b[0;34m\u001b[0m\u001b[0m\n\u001b[0m",
      "\u001b[0;32m~/.virtualenvs/venv/Flask/lib/python3.6/site-packages/pandas/io/parsers.py\u001b[0m in \u001b[0;36mparser_f\u001b[0;34m(filepath_or_buffer, sep, delimiter, header, names, index_col, usecols, squeeze, prefix, mangle_dupe_cols, dtype, engine, converters, true_values, false_values, skipinitialspace, skiprows, skipfooter, nrows, na_values, keep_default_na, na_filter, verbose, skip_blank_lines, parse_dates, infer_datetime_format, keep_date_col, date_parser, dayfirst, cache_dates, iterator, chunksize, compression, thousands, decimal, lineterminator, quotechar, quoting, doublequote, escapechar, comment, encoding, dialect, error_bad_lines, warn_bad_lines, delim_whitespace, low_memory, memory_map, float_precision)\u001b[0m\n\u001b[1;32m    683\u001b[0m         )\n\u001b[1;32m    684\u001b[0m \u001b[0;34m\u001b[0m\u001b[0m\n\u001b[0;32m--> 685\u001b[0;31m         \u001b[0;32mreturn\u001b[0m \u001b[0m_read\u001b[0m\u001b[0;34m(\u001b[0m\u001b[0mfilepath_or_buffer\u001b[0m\u001b[0;34m,\u001b[0m \u001b[0mkwds\u001b[0m\u001b[0;34m)\u001b[0m\u001b[0;34m\u001b[0m\u001b[0;34m\u001b[0m\u001b[0m\n\u001b[0m\u001b[1;32m    686\u001b[0m \u001b[0;34m\u001b[0m\u001b[0m\n\u001b[1;32m    687\u001b[0m     \u001b[0mparser_f\u001b[0m\u001b[0;34m.\u001b[0m\u001b[0m__name__\u001b[0m \u001b[0;34m=\u001b[0m \u001b[0mname\u001b[0m\u001b[0;34m\u001b[0m\u001b[0;34m\u001b[0m\u001b[0m\n",
      "\u001b[0;32m~/.virtualenvs/venv/Flask/lib/python3.6/site-packages/pandas/io/parsers.py\u001b[0m in \u001b[0;36m_read\u001b[0;34m(filepath_or_buffer, kwds)\u001b[0m\n\u001b[1;32m    455\u001b[0m \u001b[0;34m\u001b[0m\u001b[0m\n\u001b[1;32m    456\u001b[0m     \u001b[0;31m# Create the parser.\u001b[0m\u001b[0;34m\u001b[0m\u001b[0;34m\u001b[0m\u001b[0;34m\u001b[0m\u001b[0m\n\u001b[0;32m--> 457\u001b[0;31m     \u001b[0mparser\u001b[0m \u001b[0;34m=\u001b[0m \u001b[0mTextFileReader\u001b[0m\u001b[0;34m(\u001b[0m\u001b[0mfp_or_buf\u001b[0m\u001b[0;34m,\u001b[0m \u001b[0;34m**\u001b[0m\u001b[0mkwds\u001b[0m\u001b[0;34m)\u001b[0m\u001b[0;34m\u001b[0m\u001b[0;34m\u001b[0m\u001b[0m\n\u001b[0m\u001b[1;32m    458\u001b[0m \u001b[0;34m\u001b[0m\u001b[0m\n\u001b[1;32m    459\u001b[0m     \u001b[0;32mif\u001b[0m \u001b[0mchunksize\u001b[0m \u001b[0;32mor\u001b[0m \u001b[0miterator\u001b[0m\u001b[0;34m:\u001b[0m\u001b[0;34m\u001b[0m\u001b[0;34m\u001b[0m\u001b[0m\n",
      "\u001b[0;32m~/.virtualenvs/venv/Flask/lib/python3.6/site-packages/pandas/io/parsers.py\u001b[0m in \u001b[0;36m__init__\u001b[0;34m(self, f, engine, **kwds)\u001b[0m\n\u001b[1;32m    893\u001b[0m             \u001b[0mself\u001b[0m\u001b[0;34m.\u001b[0m\u001b[0moptions\u001b[0m\u001b[0;34m[\u001b[0m\u001b[0;34m\"has_index_names\"\u001b[0m\u001b[0;34m]\u001b[0m \u001b[0;34m=\u001b[0m \u001b[0mkwds\u001b[0m\u001b[0;34m[\u001b[0m\u001b[0;34m\"has_index_names\"\u001b[0m\u001b[0;34m]\u001b[0m\u001b[0;34m\u001b[0m\u001b[0;34m\u001b[0m\u001b[0m\n\u001b[1;32m    894\u001b[0m \u001b[0;34m\u001b[0m\u001b[0m\n\u001b[0;32m--> 895\u001b[0;31m         \u001b[0mself\u001b[0m\u001b[0;34m.\u001b[0m\u001b[0m_make_engine\u001b[0m\u001b[0;34m(\u001b[0m\u001b[0mself\u001b[0m\u001b[0;34m.\u001b[0m\u001b[0mengine\u001b[0m\u001b[0;34m)\u001b[0m\u001b[0;34m\u001b[0m\u001b[0;34m\u001b[0m\u001b[0m\n\u001b[0m\u001b[1;32m    896\u001b[0m \u001b[0;34m\u001b[0m\u001b[0m\n\u001b[1;32m    897\u001b[0m     \u001b[0;32mdef\u001b[0m \u001b[0mclose\u001b[0m\u001b[0;34m(\u001b[0m\u001b[0mself\u001b[0m\u001b[0;34m)\u001b[0m\u001b[0;34m:\u001b[0m\u001b[0;34m\u001b[0m\u001b[0;34m\u001b[0m\u001b[0m\n",
      "\u001b[0;32m~/.virtualenvs/venv/Flask/lib/python3.6/site-packages/pandas/io/parsers.py\u001b[0m in \u001b[0;36m_make_engine\u001b[0;34m(self, engine)\u001b[0m\n\u001b[1;32m   1133\u001b[0m     \u001b[0;32mdef\u001b[0m \u001b[0m_make_engine\u001b[0m\u001b[0;34m(\u001b[0m\u001b[0mself\u001b[0m\u001b[0;34m,\u001b[0m \u001b[0mengine\u001b[0m\u001b[0;34m=\u001b[0m\u001b[0;34m\"c\"\u001b[0m\u001b[0;34m)\u001b[0m\u001b[0;34m:\u001b[0m\u001b[0;34m\u001b[0m\u001b[0;34m\u001b[0m\u001b[0m\n\u001b[1;32m   1134\u001b[0m         \u001b[0;32mif\u001b[0m \u001b[0mengine\u001b[0m \u001b[0;34m==\u001b[0m \u001b[0;34m\"c\"\u001b[0m\u001b[0;34m:\u001b[0m\u001b[0;34m\u001b[0m\u001b[0;34m\u001b[0m\u001b[0m\n\u001b[0;32m-> 1135\u001b[0;31m             \u001b[0mself\u001b[0m\u001b[0;34m.\u001b[0m\u001b[0m_engine\u001b[0m \u001b[0;34m=\u001b[0m \u001b[0mCParserWrapper\u001b[0m\u001b[0;34m(\u001b[0m\u001b[0mself\u001b[0m\u001b[0;34m.\u001b[0m\u001b[0mf\u001b[0m\u001b[0;34m,\u001b[0m \u001b[0;34m**\u001b[0m\u001b[0mself\u001b[0m\u001b[0;34m.\u001b[0m\u001b[0moptions\u001b[0m\u001b[0;34m)\u001b[0m\u001b[0;34m\u001b[0m\u001b[0;34m\u001b[0m\u001b[0m\n\u001b[0m\u001b[1;32m   1136\u001b[0m         \u001b[0;32melse\u001b[0m\u001b[0;34m:\u001b[0m\u001b[0;34m\u001b[0m\u001b[0;34m\u001b[0m\u001b[0m\n\u001b[1;32m   1137\u001b[0m             \u001b[0;32mif\u001b[0m \u001b[0mengine\u001b[0m \u001b[0;34m==\u001b[0m \u001b[0;34m\"python\"\u001b[0m\u001b[0;34m:\u001b[0m\u001b[0;34m\u001b[0m\u001b[0;34m\u001b[0m\u001b[0m\n",
      "\u001b[0;32m~/.virtualenvs/venv/Flask/lib/python3.6/site-packages/pandas/io/parsers.py\u001b[0m in \u001b[0;36m__init__\u001b[0;34m(self, src, **kwds)\u001b[0m\n\u001b[1;32m   1915\u001b[0m         \u001b[0mkwds\u001b[0m\u001b[0;34m[\u001b[0m\u001b[0;34m\"usecols\"\u001b[0m\u001b[0;34m]\u001b[0m \u001b[0;34m=\u001b[0m \u001b[0mself\u001b[0m\u001b[0;34m.\u001b[0m\u001b[0musecols\u001b[0m\u001b[0;34m\u001b[0m\u001b[0;34m\u001b[0m\u001b[0m\n\u001b[1;32m   1916\u001b[0m \u001b[0;34m\u001b[0m\u001b[0m\n\u001b[0;32m-> 1917\u001b[0;31m         \u001b[0mself\u001b[0m\u001b[0;34m.\u001b[0m\u001b[0m_reader\u001b[0m \u001b[0;34m=\u001b[0m \u001b[0mparsers\u001b[0m\u001b[0;34m.\u001b[0m\u001b[0mTextReader\u001b[0m\u001b[0;34m(\u001b[0m\u001b[0msrc\u001b[0m\u001b[0;34m,\u001b[0m \u001b[0;34m**\u001b[0m\u001b[0mkwds\u001b[0m\u001b[0;34m)\u001b[0m\u001b[0;34m\u001b[0m\u001b[0;34m\u001b[0m\u001b[0m\n\u001b[0m\u001b[1;32m   1918\u001b[0m         \u001b[0mself\u001b[0m\u001b[0;34m.\u001b[0m\u001b[0munnamed_cols\u001b[0m \u001b[0;34m=\u001b[0m \u001b[0mself\u001b[0m\u001b[0;34m.\u001b[0m\u001b[0m_reader\u001b[0m\u001b[0;34m.\u001b[0m\u001b[0munnamed_cols\u001b[0m\u001b[0;34m\u001b[0m\u001b[0;34m\u001b[0m\u001b[0m\n\u001b[1;32m   1919\u001b[0m \u001b[0;34m\u001b[0m\u001b[0m\n",
      "\u001b[0;32mpandas/_libs/parsers.pyx\u001b[0m in \u001b[0;36mpandas._libs.parsers.TextReader.__cinit__\u001b[0;34m()\u001b[0m\n",
      "\u001b[0;32mpandas/_libs/parsers.pyx\u001b[0m in \u001b[0;36mpandas._libs.parsers.TextReader._get_header\u001b[0;34m()\u001b[0m\n",
      "\u001b[0;32mpandas/_libs/parsers.pyx\u001b[0m in \u001b[0;36mpandas._libs.parsers.TextReader._tokenize_rows\u001b[0;34m()\u001b[0m\n",
      "\u001b[0;32mpandas/_libs/parsers.pyx\u001b[0m in \u001b[0;36mpandas._libs.parsers.raise_parser_error\u001b[0;34m()\u001b[0m\n",
      "\u001b[0;31mParserError\u001b[0m: Error tokenizing data. C error: EOF inside string starting at row 1"
     ]
    }
   ],
   "source": [
    "pd.read_csv('./data/stop.txt')"
   ]
  },
  {
   "cell_type": "code",
   "execution_count": 25,
   "metadata": {},
   "outputs": [],
   "source": [
    "# 1 思路: 用正则匹配有http或者www, 看看都是什么类型的,然后用离散型数值表示\n",
    "pattern_http = '((http|ftp|https):\\/\\/[\\w\\-_]+[\\w\\-_]+[\\w\\-\\.,@?^=%&:/~\\+#]*[\\w\\-\\@?^=%&/~\\+#]?)'\n",
    "def http_cov(text):\n",
    "    text = text.replace('ｗｗｗ．','www.').replace('．ｃｏｍ','.com')\n",
    "    text = re.sub(pattern_http,\"WEB\",text)\n",
    "    return text\n",
    "# 2 思路: 用正则匹配有邮箱地址, 然后用离散型数值表示\n",
    "def email_cov(text):\n",
    "    text = re.sub('([A-Za-z0-9\\u4e00-\\u9fa5]+@[a-zA-Z0-9_-]+(\\.[a-zA-Z0-9_-]+))','EML',text)\n",
    "    return text\n",
    "#to do 可以把各个专业领域的专业用词导入,做分词,使用jieba.load_userdict(file_name), jieba.cut(ori, HMM=False),\n",
    "# 词典格式和dict.txt一样，一个词占一行；每一行分三部分，一部分为词语，另一部分为词频，最后为词性（可省略），用空格隔开\n",
    "# 宜信普惠 7\n",
    "# 宜信 10\n",
    "# 极速模式 20\n",
    "# 汽车方面可以加入结巴,品牌对人群区分有影响\n",
    "\n",
    "def filter(text,stopwords):\n",
    "    ll = [i for i in text if i is not stopwords]\n",
    "    return"
   ]
  },
  {
   "cell_type": "code",
   "execution_count": null,
   "metadata": {},
   "outputs": [],
   "source": []
  },
  {
   "cell_type": "code",
   "execution_count": 26,
   "metadata": {
    "scrolled": true
   },
   "outputs": [],
   "source": [
    "df_train['Query_List'] = df_train['Query_List'].apply(http_cov).apply(email_cov)"
   ]
  },
  {
   "cell_type": "code",
   "execution_count": 119,
   "metadata": {},
   "outputs": [
    {
     "data": {
      "text/html": [
       "<div>\n",
       "<style scoped>\n",
       "    .dataframe tbody tr th:only-of-type {\n",
       "        vertical-align: middle;\n",
       "    }\n",
       "\n",
       "    .dataframe tbody tr th {\n",
       "        vertical-align: top;\n",
       "    }\n",
       "\n",
       "    .dataframe thead th {\n",
       "        text-align: right;\n",
       "    }\n",
       "</style>\n",
       "<table border=\"1\" class=\"dataframe\">\n",
       "  <thead>\n",
       "    <tr style=\"text-align: right;\">\n",
       "      <th></th>\n",
       "      <th>ID</th>\n",
       "      <th>Age</th>\n",
       "      <th>Gender</th>\n",
       "      <th>Education</th>\n",
       "      <th>Query_List</th>\n",
       "    </tr>\n",
       "  </thead>\n",
       "  <tbody>\n",
       "    <tr>\n",
       "      <th>0</th>\n",
       "      <td>22DD920316420BE2DF8D6EE651BA174B</td>\n",
       "      <td>1</td>\n",
       "      <td>1</td>\n",
       "      <td>4</td>\n",
       "      <td>柔和双沟\\t女生\\t中财网首页 财经\\tWEB\\t周公解梦大全查询2345\\t曹云金再讽郭德...</td>\n",
       "    </tr>\n",
       "    <tr>\n",
       "      <th>1</th>\n",
       "      <td>43CC3AF5A8D6430A3B572337A889AFE4</td>\n",
       "      <td>2</td>\n",
       "      <td>1</td>\n",
       "      <td>3</td>\n",
       "      <td>广州厨宝烤箱\\t世情薄,人情恶,雨送黄昏花易落,晓风干,泪痕\\t厦门酒店用品批发市场\\t我只...</td>\n",
       "    </tr>\n",
       "    <tr>\n",
       "      <th>2</th>\n",
       "      <td>E97654BFF5570E2CCD433EA6128EAC19</td>\n",
       "      <td>4</td>\n",
       "      <td>1</td>\n",
       "      <td>0</td>\n",
       "      <td>钻石之泪耳机\\t盘锦到沈阳\\t旅顺公交\\t辽宁阜新车牌\\tbaidu\\tk715\\tk716...</td>\n",
       "    </tr>\n",
       "    <tr>\n",
       "      <th>3</th>\n",
       "      <td>6931EFC26D229CCFCEA125D3F3C21E57</td>\n",
       "      <td>4</td>\n",
       "      <td>2</td>\n",
       "      <td>3</td>\n",
       "      <td>最受欢迎狗狗排行榜\\t舶怎么读\\t场景描 写范例\\t三维绘图软件\\t枣和酸奶能一起吃吗\\t好...</td>\n",
       "    </tr>\n",
       "    <tr>\n",
       "      <th>4</th>\n",
       "      <td>E780470C3BB0D340334BD08CDCC3C71A</td>\n",
       "      <td>2</td>\n",
       "      <td>2</td>\n",
       "      <td>4</td>\n",
       "      <td>干槽症能自愈吗\\t太太万岁叶舒心去没去美国\\t干槽症\\t右眼皮下面一直跳是怎么回事\\t麦当劳...</td>\n",
       "    </tr>\n",
       "    <tr>\n",
       "      <th>...</th>\n",
       "      <td>...</td>\n",
       "      <td>...</td>\n",
       "      <td>...</td>\n",
       "      <td>...</td>\n",
       "      <td>...</td>\n",
       "    </tr>\n",
       "    <tr>\n",
       "      <th>99995</th>\n",
       "      <td>E797FFCDCAF3899AB4D17B61170D8BFF</td>\n",
       "      <td>1</td>\n",
       "      <td>1</td>\n",
       "      <td>5</td>\n",
       "      <td>梦三生\\t逆行天后漫画结局\\t英雄联盟角色介绍大全\\t韩剧网最新韩国电视剧\\t119宣传语是...</td>\n",
       "    </tr>\n",
       "    <tr>\n",
       "      <th>99996</th>\n",
       "      <td>E06375F7D092ABDE78C2D79E4725D6B0</td>\n",
       "      <td>1</td>\n",
       "      <td>1</td>\n",
       "      <td>5</td>\n",
       "      <td>中国军队配枪\\t女生\\t央视版权问题\\t重庆\\t一次性手术刀\\t精神枷锁\\t人民检察官\\t舆...</td>\n",
       "    </tr>\n",
       "    <tr>\n",
       "      <th>99997</th>\n",
       "      <td>D55119CB0B9366B20974522B58C00912</td>\n",
       "      <td>2</td>\n",
       "      <td>2</td>\n",
       "      <td>5</td>\n",
       "      <td>英文翻译\\t幼儿园面试讲课\\t学前教育书第二版\\tshock to\\t幼儿园教师资格证面试讲...</td>\n",
       "    </tr>\n",
       "    <tr>\n",
       "      <th>99998</th>\n",
       "      <td>EB4DBBD602C6459A19A77F09035E170C</td>\n",
       "      <td>3</td>\n",
       "      <td>2</td>\n",
       "      <td>3</td>\n",
       "      <td>哈尔滨祖研中医院地址\\t指甲盖侧面的肉怎么是白色\\t补骨质有副作用吗\\t哈尔滨去呼兰\\t黑龙...</td>\n",
       "    </tr>\n",
       "    <tr>\n",
       "      <th>99999</th>\n",
       "      <td>61CF81DB79423CB89E5DAA752BC4D9DD</td>\n",
       "      <td>1</td>\n",
       "      <td>2</td>\n",
       "      <td>5</td>\n",
       "      <td>陈翔毛晓彤分手\\t青春偶像剧校园电影\\t九尾狐家族\\t王俊凯小说\\t女娲的成长日记女娲变身\\...</td>\n",
       "    </tr>\n",
       "  </tbody>\n",
       "</table>\n",
       "<p>100000 rows × 5 columns</p>\n",
       "</div>"
      ],
      "text/plain": [
       "                                     ID  Age  Gender  Education  \\\n",
       "0      22DD920316420BE2DF8D6EE651BA174B    1       1          4   \n",
       "1      43CC3AF5A8D6430A3B572337A889AFE4    2       1          3   \n",
       "2      E97654BFF5570E2CCD433EA6128EAC19    4       1          0   \n",
       "3      6931EFC26D229CCFCEA125D3F3C21E57    4       2          3   \n",
       "4      E780470C3BB0D340334BD08CDCC3C71A    2       2          4   \n",
       "...                                 ...  ...     ...        ...   \n",
       "99995  E797FFCDCAF3899AB4D17B61170D8BFF    1       1          5   \n",
       "99996  E06375F7D092ABDE78C2D79E4725D6B0    1       1          5   \n",
       "99997  D55119CB0B9366B20974522B58C00912    2       2          5   \n",
       "99998  EB4DBBD602C6459A19A77F09035E170C    3       2          3   \n",
       "99999  61CF81DB79423CB89E5DAA752BC4D9DD    1       2          5   \n",
       "\n",
       "                                              Query_List  \n",
       "0      柔和双沟\\t女生\\t中财网首页 财经\\tWEB\\t周公解梦大全查询2345\\t曹云金再讽郭德...  \n",
       "1      广州厨宝烤箱\\t世情薄,人情恶,雨送黄昏花易落,晓风干,泪痕\\t厦门酒店用品批发市场\\t我只...  \n",
       "2      钻石之泪耳机\\t盘锦到沈阳\\t旅顺公交\\t辽宁阜新车牌\\tbaidu\\tk715\\tk716...  \n",
       "3      最受欢迎狗狗排行榜\\t舶怎么读\\t场景描 写范例\\t三维绘图软件\\t枣和酸奶能一起吃吗\\t好...  \n",
       "4      干槽症能自愈吗\\t太太万岁叶舒心去没去美国\\t干槽症\\t右眼皮下面一直跳是怎么回事\\t麦当劳...  \n",
       "...                                                  ...  \n",
       "99995  梦三生\\t逆行天后漫画结局\\t英雄联盟角色介绍大全\\t韩剧网最新韩国电视剧\\t119宣传语是...  \n",
       "99996  中国军队配枪\\t女生\\t央视版权问题\\t重庆\\t一次性手术刀\\t精神枷锁\\t人民检察官\\t舆...  \n",
       "99997  英文翻译\\t幼儿园面试讲课\\t学前教育书第二版\\tshock to\\t幼儿园教师资格证面试讲...  \n",
       "99998  哈尔滨祖研中医院地址\\t指甲盖侧面的肉怎么是白色\\t补骨质有副作用吗\\t哈尔滨去呼兰\\t黑龙...  \n",
       "99999  陈翔毛晓彤分手\\t青春偶像剧校园电影\\t九尾狐家族\\t王俊凯小说\\t女娲的成长日记女娲变身\\...  \n",
       "\n",
       "[100000 rows x 5 columns]"
      ]
     },
     "execution_count": 119,
     "metadata": {},
     "output_type": "execute_result"
    }
   ],
   "source": [
    "df_train"
   ]
  },
  {
   "cell_type": "code",
   "execution_count": 27,
   "metadata": {},
   "outputs": [
    {
     "name": "stdout",
     "output_type": "stream",
     "text": [
      "/Users/flybird/.virtualenvs/venv/Flask/lib/python3.6/site-packages/jieba/analyse/idf.txt\n"
     ]
    },
    {
     "name": "stderr",
     "output_type": "stream",
     "text": [
      "Building prefix dict from the default dictionary ...\n",
      "Loading model from cache /var/folders/8y/1p9ch8kn617dqk90fd6f7mv40000gn/T/jieba.cache\n",
      "Loading model cost 2.060 seconds.\n",
      "Prefix dict has been built successfully.\n"
     ]
    },
    {
     "data": {
      "text/plain": [
       "0    柔和 双沟 \\t 女生 \\t 中财网 首页   财经 \\t WEB \\t 周公 解梦 大全 ...\n",
       "1    广州 厨宝 烤箱 \\t 世情 薄 , 人情 恶 , 雨送 黄昏 花易落 , 晓 风干 , 泪...\n",
       "2    钻石 之泪 耳机 \\t 盘锦 到 沈阳 \\t 旅顺 公交 \\t 辽宁 阜新 车牌 \\t ba...\n",
       "3    最 受欢迎 狗狗 排行榜 \\t 舶 怎么 读 \\t 场景 描   写 范例 \\t 三维 绘图...\n",
       "4    干槽症 能 自愈 吗 \\t 太太 万岁 叶 舒心 去 没 去 美国 \\t 干槽症 \\t 右 ...\n",
       "Name: Query_List, dtype: object"
      ]
     },
     "execution_count": 27,
     "metadata": {},
     "output_type": "execute_result"
    }
   ],
   "source": [
    "import jieba\n",
    "import jieba.analyse\n",
    "# df_train['Query_List'].apply(lambda x:' '.join(jieba.lcut(x)))\n",
    "df_train['Query_List'][:5].apply(lambda x:' '.join(jieba.lcut(x)))\n"
   ]
  },
  {
   "cell_type": "code",
   "execution_count": 24,
   "metadata": {},
   "outputs": [
    {
     "data": {
      "text/plain": [
       "'柔和 双沟 \\t 女生 \\t 中财网 首页   财经 \\t http : / / pan . baidu . com / s / 1plpjtn9 \\t 周公 解梦 大全 查询 2345 \\t 曹云金 再讽 郭德纲 \\t 总裁 大人 行行好 \\t 中财网 第一 财经 传媒 \\t 教师节 全文 \\t 男子 砸毁 15 墓碑 \\t 黄岩岛 最新 填 海图 \\t 引起 的 疲 \\t 缘来 未 迟落 跑 甜心 不好惹 \\t 梁朝伟 与 替身 同框 \\t 笑傲江湖 电视剧 任贤齐 \\t 小起 名字 女孩 名字 \\t 海运 行李 到 堪培拉 \\t 确定 \\t 诱爱 99 天   司少 的 天价 宝贝 \\t 什么 是 遥控 魔棒 \\t 徽信 表情 动态 搞笑 图片 \\t 教师节 征文 100 字 \\t 安微 联通 网上 营业厅 \\t 甜宠 百分百 : 校草 的 萌萌 未婚妻 \\t 豪门 重生 之暖爱 成婚 \\t nikehypershift 和 kd5 哪个 好看 \\t 韭菜 炒鸡蛋 \\t 陈赫 玩 王者 荣耀 \\t 虎牙 楚河 \\t 三国演义 小说 txt 下载 \\t 威县 欧派 \\t 炒 馍 花 怎么 做 好吃 \\t 黄岩岛 最新消息 2016 年 \\t 中秋节 诗句 大全 祝福 \\t 教师节 征文 \\t 菜谱 \\t 柔和 双沟 卖 的 怎么样 \\t 七位数 开奖 结果 \\t 以色列 停车场 坍塌 \\t 天龙 家庭 农场 \\t 7.22 什么 星座 \\t 新旧 约 圣经 和 合本 下载 \\t 4 π \\t wifi 万能钥匙 \\t 威灵仙 图片 \\t 临泉 长官 天龙 家庭 农场 \\t 早安 总统 大人 \\t 百合 \\t 莲藕 的 做法 \\t 花街 \\t 无锡 \\t 蚬壳 胃散 怎么 吃 \\t 触手 忆寒 \\t 中秋节 的 诗句 \\t 孟州 电信   电子 发票 \\t 鸡丝 汤 的 做法 \\t 我 等 你 \\t 临泉 长官 镇桥口 李小刚 农场 \\t 朋仇 \\t 全民 k 歌 \\t 炸 葱花 \\t 蒜苔 炒肉 \\t 冰川 的 图片 \\t kd5 \\t … \\t 若风 \\t 好奇 纸尿裤 \\t 清蒸鱼 \\t 189.8 是 谁 的 平方 \\t 重庆 餐馆 发生爆炸 \\t 捡 手机 被 失主 抢劫 \\t https : / / yunpan . cn / ocsqfgtfya2ewj \\t 炒 馍 花 的 家常 做法 \\t 三国演义 小说 百度 云 \\t 总裁 掠爱 小舅 别 太坏 \\t : https : / / yunpan . cn / cmh8tmeyraiww \\t 周公 解梦 \\t 查 坦克 冰川 \\t 凉拌 藕片 的 做法 \\t 投票 \\t 鸡丝 炒 什么 好吃 \\t 被 时光 掩埋 的 秘密 小说 下载 \\t 中国电信 电子 发票 \\t 张续 豪 \\t 关于 月亮 的 诗句 \\t 用 酵母 蒸 馒头 的 方法 \\t 赵丽颖 碧瑶 坐 \\t 触手 兵长 \\t 图集   下载 腾讯 新闻 , 看 街头 混战 武警 \\t 厦门航空 \\t 蚬壳 胃散 \\t 炒 茄子 做法 \\t 身份 类别 怎么 填 \\t 最好 的 我们 里面 的 方特 在 哪里 \\t 牢 里面 的 生活 是 怎样 的 \\t 强迫症 有 哪些 表现 \\t 白袍 法师 暖 暖 图片 \\t 朋仇 广场 舞 \\t 小宇 热游 \\t 蒸 馒头 的 方法 \\t 狡滑 的 意思 \\t 黄石 大冶 东岳 派出所 服务 电话 \\t 三国演义 小说 下载 txt \\t http : / / zxjhjc9088.1688 . com \\t 松柏 道馆 \\t 10.1 高速 免费 几天 \\t 三国演义 小说 txt \\t 柔和 双沟 业务 待遇 \\t 酵母 蒸 馒头 的 方法 \\t 初中 家教 一对一 辅导 \\t 口子 窖 \\t 中秋节 祝福 诗句 \\t 侠岚 \\t 文 王国 窖 42 度 价格表 1001 文 王国 窖 42 度 价格表 \\t 批注 是 什么 意思 \\t 殿下 专属 小丫头 \\t 无锡 爆炸 \\t 炸 茄子 做法 \\t http : / / pan . baidu . com / s / 1cor7gy \\t 大件 行李 邮寄 \\t 烟火 陈翔 \\t 没想到 , 真没想到 作文 \\t 安徽 滁州 石坝 镇 \\t 虎牙 小宇 \\t 驾校 培训 跑 长途 \\t 骨质 性 关节炎 \\t 左 膝盖 内侧 疼 是 怎么回事 \\t 虎皮 尖椒 的 做法 大全 \\t 陈翔 的 女朋友 吻照 \\t q 我 的 世界 、 5 \\t 23.04 的 平方根 \\t 神将 世界 表情 包 \\t 寻找 成龙 \\t 柔和 双沟 卖 的 \\t 三国演义 txt 百度 云 \\t 一般 现在 时 \\t 澳洲 邮寄 行李 费用 \\t 触手 若 月 \\t 1991 年 11 月 26 日 是 什么 星座 \\t 校草 成长 记 \\t 暮光 女 向 女友 求婚 \\t 钢弩 的 价格 图片 \\t 乐乐 课堂 \\t 宠妻 成瘾 老婆 你 要 乖 \\t 魔手 tv \\t 梅河口 到 济南 的 火车票 \\t 临泉 长官 镇 \\t 君子兰 \\t 南洋 十大 邪术 电影 \\t 肚 \\t 炸油条 的 做法 和 配方 \\t 根号 6 等于 多少 \\t 笑笑 昨日 帝王 骗 \\t 吃惊 的 什么 填 词语 \\t 50 字 教师节 征文 \\t 朝阳区 黑 庄户 邮编 \\t 千百 鲁 \\t 1991 年 农历 11 月 26 日 是 什么 星座 \\t 圣经 和 合本 免费 下载 \\t 水煮 花生米 的 做法 \\t http : / / pan . baidu . com / s / 1jhbv9pg \\t 十字 弓 \\t 徽信 表情 含义 \\t 天才 小熊猫 微博长 图 \\t 宠冠六宫 : 帝王 的 娇蛮 皇妃 \\t 去 广告 软件   安卓版 \\t 萌妻 娇俏帝 少 我 嘴 挑 \\t 总裁 霸爱 小小 新娘 要 逃婚 \\t 花生 怎么 煮 好吃 \\t 中国 证券网 \\t 柔和 双沟 销售 \\t 中秋节 的 诗句 图片 \\t 男子 怪病 喝 洗洁精 \\t 4 π 等于 多少 \\t 服装 批发 5 元 \\t 怀孕 33 周 肚子 隐隐作痛 怎么回事 \\t 百度 云 \\t 酱 炒 蒜苔 的 家常 做法 \\t 水煮 花生米 \\t 天才 小熊猫 作品 \\t 袁姗姗 \\t 临泉 长官 镇桥口 \\t 呼作 白玉 盘 的 上 一句 \\t 微信 表情 包 搞笑 图片 \\t 滴滴 快车 司机 端 \\t 教师节 手抄报 简单 好看 \\t 大冶 公安局   派出所 \\t 柔和 双沟 业务 待遇 怎么样 \\t 为什么 哺乳期 不会 有 月经 \\t 临泉 长官 水上 乐园 \\t 忐忑不安 的 意思 \\t 临泉 长官 李小刚 家庭 农场 \\t 电信 电子 发票 怎么 报销 \\t 岳不群 \\t : http : / / pan . baidu . com / s / 1plefcb5 \\t 临泉 长官 镇桥口 李 天龙 农场 \\t 凉拌 水煮 花生米 的 做法 \\t 威灵仙 的 功效 与 作用 \\t http : / / pan . baidu . com / s / 1o7hnpmy \\t 鸽子 汤 的 做法 \\t 战神 伪高冷   天降 医妃 拐 回家 \\t 白颠 疯 初期 症状 \\t 天才 小熊猫 \\t 首席 萌妻 咬一口 \\t 弩弓 枪 商城 \\t 三国演义 小说 \\t 临泉 长官 镇桥口 植物 养殖 基地 \\t 邮储 银行 手机 银行 客户端 下载 \\t 煮 花米 怎么 做 好吃 \\t 英语 在线翻译 \\t 糖醋 鲤鱼 \\t ｗ ｗ ｗ ． ２ ０ １ ６ ｙ ｇ ． ｃ ｏ ｍ \\t 搞笑 微信 表情图片 带字 \\t 新婚 甜 似火 : 鲜妻 , 二 胎生 一对 \\t 三国演义 \\t 关于 教师节 的 手抄报 \\t http : / / m37189 . mustfollow . vx . mvote . net / wx \\t 文 王国 窖 42 度 价格表 \\t 鱼汤 的 做法 \\t http : / / www . cswanda . com / weixin / game1 / 2016 \\t 临泉 长官 镇桥口 私人 农场 \\t 临泉 长官 镇桥 口镇 杨营 \\t 临泉 长官 李 天龙 家庭 农场 \\t 李子树 根部 有 脓包 怎么回事 \\t 单手 高速 转牌 \\t 医学院 在 什么 路上 \\t 徽信 早上好 动态 表情 \\t 宝宝 小名 大全 2016 洋气 \\t 寂寞 男女 聊天记录 截图 \\t https : / / yunpan . cn / oc6nhvmrg5j2ur \\t 神将 世界 \\t 美丽 的 秋天 作文 300 字 \\t http : / / pan . baidu . com / s / 1nu9uizn \\t 钢弩 \\t 冰川 世纪 电影 \\t 全文 \\t 触手 蓝烟 \\t 鱼 的 做法 \\t 金罐 加多宝 20 罐 \\t 澳洲 托运 行李 规定 \\t 15346171303 @ 189 . cn \\t 炒 蒜苔 的 家常 做法 \\t 被 时光 掩埋 的 秘密 \\t 根号 13.6 等于 几 \\t 方特 东方 神画 \\t 粉红 花朵 图片 \\t qq 号 申请 \\t 千亿 盛宠   大叔 吻 慢点 \\t http : / / linjiada1989.1688 . com \\t 东方 财富网 首页 \\t http : / / pan . baidu . com / s / 1hraemhe \\t 动力 煤 价格 \\t 手机 遥控 魔棒 \\t jzg \\t http : / / pan . baidu . com / s / 1o8cxpmm \\t 行李 托运 到 澳洲 \\t 蚬壳 胃散 副作用 \\t 红烧 鲤鱼 \\t 触手 tv \\t 中国 财经 信息网 中财网 \\t 立方根 800 \\t 美食 菜谱 \\t 笑傲江湖 电视剧 \\t 柔和 双沟 怎么样 \\t 笑傲江湖 \\t 花 的 品种 名字 及 图片 \\t 滴滴 司机 端 \\t 奇怪 君 \\t 鸡蛋 灌饼 \\t 天龙 农家乐 园 \\t 吉 拉拉 歌词 \\t 陈翔 的 女朋友 \\t 牢解场 的 生活 \\t 微微一笑 很 倾城 \\t 豪门 少奶奶 谢少 的 心尖 宠妻'"
      ]
     },
     "execution_count": 24,
     "metadata": {},
     "output_type": "execute_result"
    },
    {
     "data": {
      "text/plain": [
       "['http', '临泉', 'com', '做法', 'pan', 'baidu', '长官', '双沟', '教师节', '三国演义', '镇桥口', '柔和', '图片', '农场', '天龙', '下载', 'txt', 'cn', '触手', '诗句']"
      ]
     },
     "execution_count": 24,
     "metadata": {},
     "output_type": "execute_result"
    }
   ],
   "source": [
    "import jieba\n",
    "import jieba.analyse\n",
    "sentences = jieba.lcut(df_train['Query_List'][0])\n",
    "# jieba.analyse.extract_tags(sentences,topK=20)\n",
    "sentences = ' '.join(sentences)\n",
    "sentences.strip()\n",
    "jieba.analyse.extract_tags(sentences,topK=20)"
   ]
  },
  {
   "cell_type": "code",
   "execution_count": null,
   "metadata": {},
   "outputs": [],
   "source": []
  }
 ],
 "metadata": {
  "kernelspec": {
   "display_name": "Python 3",
   "language": "python",
   "name": "python3"
  },
  "language_info": {
   "codemirror_mode": {
    "name": "ipython",
    "version": 3
   },
   "file_extension": ".py",
   "mimetype": "text/x-python",
   "name": "python",
   "nbconvert_exporter": "python",
   "pygments_lexer": "ipython3",
   "version": "3.6.8"
  },
  "toc": {
   "base_numbering": 1,
   "nav_menu": {},
   "number_sections": true,
   "sideBar": true,
   "skip_h1_title": false,
   "title_cell": "Table of Contents",
   "title_sidebar": "Contents",
   "toc_cell": false,
   "toc_position": {},
   "toc_section_display": true,
   "toc_window_display": false
  }
 },
 "nbformat": 4,
 "nbformat_minor": 2
}
