{
 "cells": [
  {
   "cell_type": "code",
   "execution_count": 1,
   "metadata": {},
   "outputs": [
    {
     "name": "stdout",
     "output_type": "stream",
     "text": [
      "Pretty printing has been turned OFF\n"
     ]
    }
   ],
   "source": [
    "import pandas as pd\n",
    "%config ZMQInteractiveShell.ast_node_interactivity='all'\n",
    "%pprint\n",
    "import warnings \n",
    "warnings.filterwarnings('ignore')"
   ]
  },
  {
   "cell_type": "code",
   "execution_count": 2,
   "metadata": {},
   "outputs": [],
   "source": [
    "import re\n",
    "import numpy as np\n",
    "import pandas as pd"
   ]
  },
  {
   "cell_type": "markdown",
   "metadata": {},
   "source": [
    "## 读取文本"
   ]
  },
  {
   "cell_type": "code",
   "execution_count": 106,
   "metadata": {},
   "outputs": [],
   "source": [
    "df_test = pd.read_csv('./data/test.csv',sep=\"###__###\",names=['ID','Query_List'])\n",
    "df_train = pd.read_csv('./data/train.csv',sep='###__###',names=['ID', 'Age', 'Gender', 'Education', 'Query_List'])"
   ]
  },
  {
   "cell_type": "code",
   "execution_count": 107,
   "metadata": {
    "scrolled": true
   },
   "outputs": [
    {
     "data": {
      "text/html": [
       "<div>\n",
       "<style scoped>\n",
       "    .dataframe tbody tr th:only-of-type {\n",
       "        vertical-align: middle;\n",
       "    }\n",
       "\n",
       "    .dataframe tbody tr th {\n",
       "        vertical-align: top;\n",
       "    }\n",
       "\n",
       "    .dataframe thead th {\n",
       "        text-align: right;\n",
       "    }\n",
       "</style>\n",
       "<table border=\"1\" class=\"dataframe\">\n",
       "  <thead>\n",
       "    <tr style=\"text-align: right;\">\n",
       "      <th></th>\n",
       "      <th>ID</th>\n",
       "      <th>Query_List</th>\n",
       "    </tr>\n",
       "  </thead>\n",
       "  <tbody>\n",
       "    <tr>\n",
       "      <th>0</th>\n",
       "      <td>ED89D43B9F602F96D96C25255F7C228C</td>\n",
       "      <td>陈学冬将出的作品\\t刘昊然与谭松韵\\t211学校的分数线\\t谁唱的味道好听\\t吻戏是真吻还是...</td>\n",
       "    </tr>\n",
       "    <tr>\n",
       "      <th>1</th>\n",
       "      <td>83C3B7B4AAF8074655A8079F561A76D6</td>\n",
       "      <td>e的0.0052次方\\tqq怎么快速提现\\t绝色倾城飞烟\\t马克思主义基本原理概论\\t康世恩...</td>\n",
       "    </tr>\n",
       "    <tr>\n",
       "      <th>2</th>\n",
       "      <td>CA9F675A024FB2353849350A35CF8B0F</td>\n",
       "      <td>黑暗文\\tlpl夏季赛\\t大富豪电玩城\\t英雄联盟之电竞称王\\t手机怎么扫描手机上的二维码\\...</td>\n",
       "    </tr>\n",
       "    <tr>\n",
       "      <th>3</th>\n",
       "      <td>DE45B5C4E57AAEBCF3FDFA2A774093BF</td>\n",
       "      <td>中秋水库钓鱼\\t鱼竿\\t用蚯蚓钓鱼怎样调漂\\t传统钓\\t3号鱼钩\\t鲫鱼汤的做法大全\\t鱼饵...</td>\n",
       "    </tr>\n",
       "    <tr>\n",
       "      <th>4</th>\n",
       "      <td>406A681FB3DF81EC0E561796AE50AE50</td>\n",
       "      <td>号码吉凶\\t退休干部死后配偶\\t郫县有哪些大学\\t胜利油田属于中石化还是中石油\\t苏珊米勒狮...</td>\n",
       "    </tr>\n",
       "  </tbody>\n",
       "</table>\n",
       "</div>"
      ],
      "text/plain": [
       "                                 ID  \\\n",
       "0  ED89D43B9F602F96D96C25255F7C228C   \n",
       "1  83C3B7B4AAF8074655A8079F561A76D6   \n",
       "2  CA9F675A024FB2353849350A35CF8B0F   \n",
       "3  DE45B5C4E57AAEBCF3FDFA2A774093BF   \n",
       "4  406A681FB3DF81EC0E561796AE50AE50   \n",
       "\n",
       "                                          Query_List  \n",
       "0  陈学冬将出的作品\\t刘昊然与谭松韵\\t211学校的分数线\\t谁唱的味道好听\\t吻戏是真吻还是...  \n",
       "1  e的0.0052次方\\tqq怎么快速提现\\t绝色倾城飞烟\\t马克思主义基本原理概论\\t康世恩...  \n",
       "2  黑暗文\\tlpl夏季赛\\t大富豪电玩城\\t英雄联盟之电竞称王\\t手机怎么扫描手机上的二维码\\...  \n",
       "3  中秋水库钓鱼\\t鱼竿\\t用蚯蚓钓鱼怎样调漂\\t传统钓\\t3号鱼钩\\t鲫鱼汤的做法大全\\t鱼饵...  \n",
       "4  号码吉凶\\t退休干部死后配偶\\t郫县有哪些大学\\t胜利油田属于中石化还是中石油\\t苏珊米勒狮...  "
      ]
     },
     "execution_count": 107,
     "metadata": {},
     "output_type": "execute_result"
    },
    {
     "data": {
      "text/html": [
       "<div>\n",
       "<style scoped>\n",
       "    .dataframe tbody tr th:only-of-type {\n",
       "        vertical-align: middle;\n",
       "    }\n",
       "\n",
       "    .dataframe tbody tr th {\n",
       "        vertical-align: top;\n",
       "    }\n",
       "\n",
       "    .dataframe thead th {\n",
       "        text-align: right;\n",
       "    }\n",
       "</style>\n",
       "<table border=\"1\" class=\"dataframe\">\n",
       "  <thead>\n",
       "    <tr style=\"text-align: right;\">\n",
       "      <th></th>\n",
       "      <th>ID</th>\n",
       "      <th>Age</th>\n",
       "      <th>Gender</th>\n",
       "      <th>Education</th>\n",
       "      <th>Query_List</th>\n",
       "    </tr>\n",
       "  </thead>\n",
       "  <tbody>\n",
       "    <tr>\n",
       "      <th>0</th>\n",
       "      <td>22DD920316420BE2DF8D6EE651BA174B</td>\n",
       "      <td>1</td>\n",
       "      <td>1</td>\n",
       "      <td>4</td>\n",
       "      <td>柔和双沟\\t女生\\t中财网首页 财经\\thttp://pan.baidu.com/s/1pl...</td>\n",
       "    </tr>\n",
       "    <tr>\n",
       "      <th>1</th>\n",
       "      <td>43CC3AF5A8D6430A3B572337A889AFE4</td>\n",
       "      <td>2</td>\n",
       "      <td>1</td>\n",
       "      <td>3</td>\n",
       "      <td>广州厨宝烤箱\\t世情薄,人情恶,雨送黄昏花易落,晓风干,泪痕\\t厦门酒店用品批发市场\\t我只...</td>\n",
       "    </tr>\n",
       "    <tr>\n",
       "      <th>2</th>\n",
       "      <td>E97654BFF5570E2CCD433EA6128EAC19</td>\n",
       "      <td>4</td>\n",
       "      <td>1</td>\n",
       "      <td>0</td>\n",
       "      <td>钻石之泪耳机\\t盘锦到沈阳\\t旅顺公交\\t辽宁阜新车牌\\tbaidu\\tk715\\tk716...</td>\n",
       "    </tr>\n",
       "    <tr>\n",
       "      <th>3</th>\n",
       "      <td>6931EFC26D229CCFCEA125D3F3C21E57</td>\n",
       "      <td>4</td>\n",
       "      <td>2</td>\n",
       "      <td>3</td>\n",
       "      <td>最受欢迎狗狗排行榜\\t舶怎么读\\t场景描 写范例\\t三维绘图软件\\t枣和酸奶能一起吃吗\\t好...</td>\n",
       "    </tr>\n",
       "    <tr>\n",
       "      <th>4</th>\n",
       "      <td>E780470C3BB0D340334BD08CDCC3C71A</td>\n",
       "      <td>2</td>\n",
       "      <td>2</td>\n",
       "      <td>4</td>\n",
       "      <td>干槽症能自愈吗\\t太太万岁叶舒心去没去美国\\t干槽症\\t右眼皮下面一直跳是怎么回事\\t麦当劳...</td>\n",
       "    </tr>\n",
       "    <tr>\n",
       "      <th>5</th>\n",
       "      <td>5BB424C7298B2CB67C368DDB73D4D336</td>\n",
       "      <td>4</td>\n",
       "      <td>2</td>\n",
       "      <td>0</td>\n",
       "      <td>钢琴曲欣赏100首\\t一个月的宝宝眼睫毛那么是黄色\\t宝宝右眼有眼屎\\t小儿抽搐怎么办\\t剖...</td>\n",
       "    </tr>\n",
       "    <tr>\n",
       "      <th>6</th>\n",
       "      <td>0D58894CD481D4B3039000661665C0DB</td>\n",
       "      <td>3</td>\n",
       "      <td>2</td>\n",
       "      <td>3</td>\n",
       "      <td>貔貅饲育指南\\t韩姨\\t贵阳学古琴\\t洛基\\t风速狗\\t综英美]店主不好吃\\t&gt;重生之被拐儿...</td>\n",
       "    </tr>\n",
       "    <tr>\n",
       "      <th>7</th>\n",
       "      <td>0BA56489237BC91353300BE44298C6D8</td>\n",
       "      <td>6</td>\n",
       "      <td>1</td>\n",
       "      <td>0</td>\n",
       "      <td>昂的笔顺\\t三年级上册数学口算\\t牛的英语怎么读\\t抓木机\\t60米差不多跑多长时间\\t似乎...</td>\n",
       "    </tr>\n",
       "    <tr>\n",
       "      <th>8</th>\n",
       "      <td>3D39C1B9312105E030B039CCDCD79611</td>\n",
       "      <td>1</td>\n",
       "      <td>1</td>\n",
       "      <td>5</td>\n",
       "      <td>李明霖在哪直播\\t英文翻译\\t薄荷籽\\t为什么搜狐视频不能缓存\\t有一首歌女生唱的歌词是冬天...</td>\n",
       "    </tr>\n",
       "    <tr>\n",
       "      <th>9</th>\n",
       "      <td>93174489E2E708BF6F797DC69F1531A8</td>\n",
       "      <td>1</td>\n",
       "      <td>1</td>\n",
       "      <td>5</td>\n",
       "      <td>bft20\\t龙王传说\\t长治到成都可以怎么坐火车\\t龙王传说txt\\t2 4 8 16老司...</td>\n",
       "    </tr>\n",
       "  </tbody>\n",
       "</table>\n",
       "</div>"
      ],
      "text/plain": [
       "                                 ID  Age  Gender  Education  \\\n",
       "0  22DD920316420BE2DF8D6EE651BA174B    1       1          4   \n",
       "1  43CC3AF5A8D6430A3B572337A889AFE4    2       1          3   \n",
       "2  E97654BFF5570E2CCD433EA6128EAC19    4       1          0   \n",
       "3  6931EFC26D229CCFCEA125D3F3C21E57    4       2          3   \n",
       "4  E780470C3BB0D340334BD08CDCC3C71A    2       2          4   \n",
       "5  5BB424C7298B2CB67C368DDB73D4D336    4       2          0   \n",
       "6  0D58894CD481D4B3039000661665C0DB    3       2          3   \n",
       "7  0BA56489237BC91353300BE44298C6D8    6       1          0   \n",
       "8  3D39C1B9312105E030B039CCDCD79611    1       1          5   \n",
       "9  93174489E2E708BF6F797DC69F1531A8    1       1          5   \n",
       "\n",
       "                                          Query_List  \n",
       "0  柔和双沟\\t女生\\t中财网首页 财经\\thttp://pan.baidu.com/s/1pl...  \n",
       "1  广州厨宝烤箱\\t世情薄,人情恶,雨送黄昏花易落,晓风干,泪痕\\t厦门酒店用品批发市场\\t我只...  \n",
       "2  钻石之泪耳机\\t盘锦到沈阳\\t旅顺公交\\t辽宁阜新车牌\\tbaidu\\tk715\\tk716...  \n",
       "3  最受欢迎狗狗排行榜\\t舶怎么读\\t场景描 写范例\\t三维绘图软件\\t枣和酸奶能一起吃吗\\t好...  \n",
       "4  干槽症能自愈吗\\t太太万岁叶舒心去没去美国\\t干槽症\\t右眼皮下面一直跳是怎么回事\\t麦当劳...  \n",
       "5  钢琴曲欣赏100首\\t一个月的宝宝眼睫毛那么是黄色\\t宝宝右眼有眼屎\\t小儿抽搐怎么办\\t剖...  \n",
       "6  貔貅饲育指南\\t韩姨\\t贵阳学古琴\\t洛基\\t风速狗\\t综英美]店主不好吃\\t>重生之被拐儿...  \n",
       "7  昂的笔顺\\t三年级上册数学口算\\t牛的英语怎么读\\t抓木机\\t60米差不多跑多长时间\\t似乎...  \n",
       "8  李明霖在哪直播\\t英文翻译\\t薄荷籽\\t为什么搜狐视频不能缓存\\t有一首歌女生唱的歌词是冬天...  \n",
       "9  bft20\\t龙王传说\\t长治到成都可以怎么坐火车\\t龙王传说txt\\t2 4 8 16老司...  "
      ]
     },
     "execution_count": 107,
     "metadata": {},
     "output_type": "execute_result"
    }
   ],
   "source": [
    "df_test.head()\n",
    "df_train.head(10)"
   ]
  },
  {
   "cell_type": "markdown",
   "metadata": {},
   "source": [
    "## 查看用户数据,看数据均衡"
   ]
  },
  {
   "cell_type": "code",
   "execution_count": 108,
   "metadata": {},
   "outputs": [
    {
     "name": "stdout",
     "output_type": "stream",
     "text": [
      "<class 'pandas.core.frame.DataFrame'>\n",
      "RangeIndex: 100000 entries, 0 to 99999\n",
      "Data columns (total 5 columns):\n",
      "ID            100000 non-null object\n",
      "Age           100000 non-null int64\n",
      "Gender        100000 non-null int64\n",
      "Education     100000 non-null int64\n",
      "Query_List    100000 non-null object\n",
      "dtypes: int64(3), object(2)\n",
      "memory usage: 3.8+ MB\n"
     ]
    },
    {
     "data": {
      "text/html": [
       "<div>\n",
       "<style scoped>\n",
       "    .dataframe tbody tr th:only-of-type {\n",
       "        vertical-align: middle;\n",
       "    }\n",
       "\n",
       "    .dataframe tbody tr th {\n",
       "        vertical-align: top;\n",
       "    }\n",
       "\n",
       "    .dataframe thead th {\n",
       "        text-align: right;\n",
       "    }\n",
       "</style>\n",
       "<table border=\"1\" class=\"dataframe\">\n",
       "  <thead>\n",
       "    <tr style=\"text-align: right;\">\n",
       "      <th></th>\n",
       "      <th>Age</th>\n",
       "      <th>Gender</th>\n",
       "      <th>Education</th>\n",
       "    </tr>\n",
       "  </thead>\n",
       "  <tbody>\n",
       "    <tr>\n",
       "      <th>mean</th>\n",
       "      <td>2.08231</td>\n",
       "      <td>1.38714</td>\n",
       "      <td>3.90333</td>\n",
       "    </tr>\n",
       "    <tr>\n",
       "      <th>sum</th>\n",
       "      <td>208231.00000</td>\n",
       "      <td>138714.00000</td>\n",
       "      <td>390333.00000</td>\n",
       "    </tr>\n",
       "    <tr>\n",
       "      <th>median</th>\n",
       "      <td>2.00000</td>\n",
       "      <td>1.00000</td>\n",
       "      <td>4.00000</td>\n",
       "    </tr>\n",
       "    <tr>\n",
       "      <th>count</th>\n",
       "      <td>100000.00000</td>\n",
       "      <td>100000.00000</td>\n",
       "      <td>100000.00000</td>\n",
       "    </tr>\n",
       "  </tbody>\n",
       "</table>\n",
       "</div>"
      ],
      "text/plain": [
       "                 Age        Gender     Education\n",
       "mean         2.08231       1.38714       3.90333\n",
       "sum     208231.00000  138714.00000  390333.00000\n",
       "median       2.00000       1.00000       4.00000\n",
       "count   100000.00000  100000.00000  100000.00000"
      ]
     },
     "execution_count": 108,
     "metadata": {},
     "output_type": "execute_result"
    },
    {
     "data": {
      "text/plain": [
       "1    38996\n",
       "2    26744\n",
       "3    18529\n",
       "4    10654\n",
       "5     2922\n",
       "0     1666\n",
       "6      489\n",
       "Name: Age, dtype: int64"
      ]
     },
     "execution_count": 108,
     "metadata": {},
     "output_type": "execute_result"
    },
    {
     "data": {
      "text/plain": [
       "1    56976\n",
       "2    40869\n",
       "0     2155\n",
       "Name: Gender, dtype: int64"
      ]
     },
     "execution_count": 108,
     "metadata": {},
     "output_type": "execute_result"
    },
    {
     "data": {
      "text/plain": [
       "5    37107\n",
       "4    28148\n",
       "3    18858\n",
       "0     9280\n",
       "6     5693\n",
       "2      560\n",
       "1      354\n",
       "Name: Education, dtype: int64"
      ]
     },
     "execution_count": 108,
     "metadata": {},
     "output_type": "execute_result"
    }
   ],
   "source": [
    "df_train.info() # 数据没有缺失值\n",
    "df_train[['Age','Gender','Education']].agg(['mean','sum','median','count']) \n",
    "for i in ['Age','Gender','Education']:\n",
    "    df_train[i].value_counts()\n",
    "\n",
    "# 数据在Age=1的比较多, Gender=1比较多,education在5比较多,可以看出样本总体不均衡,所以训练模型的时候需要切分"
   ]
  },
  {
   "cell_type": "code",
   "execution_count": 109,
   "metadata": {},
   "outputs": [
    {
     "data": {
      "text/plain": [
       "1232.69503"
      ]
     },
     "execution_count": 109,
     "metadata": {},
     "output_type": "execute_result"
    }
   ],
   "source": [
    "np.mean(df_train['Query_List'].agg(lambda x: len(x)))"
   ]
  },
  {
   "cell_type": "markdown",
   "metadata": {},
   "source": [
    "## 清洗数据"
   ]
  },
  {
   "cell_type": "markdown",
   "metadata": {},
   "source": [
    "### 读取停用词"
   ]
  },
  {
   "cell_type": "code",
   "execution_count": 110,
   "metadata": {
    "scrolled": true
   },
   "outputs": [],
   "source": [
    "stopwords = pd.read_csv('./data/stop.txt',sep='\\t',index_col=False,quoting=3,encoding='utf-8',names=['stopwords'])\n",
    "stopwords = stopwords['stopwords'].values"
   ]
  },
  {
   "cell_type": "markdown",
   "metadata": {},
   "source": [
    "### 清洗词函数"
   ]
  },
  {
   "cell_type": "code",
   "execution_count": 111,
   "metadata": {},
   "outputs": [],
   "source": [
    "# 1 思路: 用正则匹配有http或者www, 看看都是什么类型的,然后用离散型数值表示\n",
    "pattern_http = '((http|ftp|https):\\/\\/[\\w\\-_]+[\\w\\-_]+[\\w\\-\\.,@?^=%&:/~\\+#]*[\\w\\-\\@?^=%&/~\\+#]?)'\n",
    "def http_cov(text):\n",
    "    text = text.replace('ｗｗｗ．','www.').replace('．ｃｏｍ','.com').replace('\\t','')\n",
    "    text = re.sub(pattern_http,\"WEB\",text)\n",
    "    return text\n",
    "# 2 思路: 用正则匹配有邮箱地址, 然后用离散型数值表示\n",
    "def email_cov(text):\n",
    "    text = re.sub('([A-Za-z0-9\\u4e00-\\u9fa5]+@[a-zA-Z0-9_-]+(\\.[a-zA-Z0-9_-]+))','EML',text)\n",
    "    return text\n",
    "#to do 可以把各个专业领域的专业用词导入,做分词,使用jieba.load_userdict(file_name), jieba.cut(ori, HMM=False),\n",
    "# 词典格式和dict.txt一样，一个词占一行；每一行分三部分，一部分为词语，另一部分为词频，最后为词性（可省略），用空格隔开\n",
    "# 宜信普惠 7\n",
    "# 宜信 10\n",
    "# 极速模式 20\n",
    "# 汽车方面可以加入结巴,品牌对人群区分有影响\n",
    "# 分词与词性过滤 (只保留n,v,j)"
   ]
  },
  {
   "cell_type": "markdown",
   "metadata": {},
   "source": [
    "### 分词+词性,停用词筛选"
   ]
  },
  {
   "cell_type": "code",
   "execution_count": 112,
   "metadata": {},
   "outputs": [],
   "source": [
    "import jieba\n",
    "import jieba.analyse\n",
    "import jieba.posseg\n",
    " \n",
    "def dosegment_all(sentence):\n",
    "    '''\n",
    "    带词性标注，对句子进行分词，不排除停词等\n",
    "    :param sentence:输入字符\n",
    "    :return:\n",
    "    '''\n",
    "    allowPOS = ['n','v','j','eng']\n",
    "    sentence_seged = jieba.posseg.cut(sentence.strip())\n",
    "    outstr = ''\n",
    "    for x in sentence_seged:\n",
    "        if x.flag in allowPOS and len(x.word)>=2: \n",
    "            if x.word not in stopwords:\n",
    "                outstr += '%s,'%(x.word)\n",
    "#             print('yes')\n",
    "#             outstr+=\"{}/{},\".format(x.word,x.flag)\n",
    "        else:\n",
    "            pass\n",
    "    return outstr\n",
    "    #上面的for循环可以用python递推式构造生成器完成\n",
    "    # outstr = \",\".join([(\"%s/%s\" %(x.word,x.flag)) for x in sentence_seged])"
   ]
  },
  {
   "cell_type": "code",
   "execution_count": 113,
   "metadata": {},
   "outputs": [
    {
     "data": {
      "text/plain": [
       "'苹果,官网,iPhone,降价,WEB,网友,同学,WLT,记者,降掉,'"
      ]
     },
     "execution_count": 113,
     "metadata": {},
     "output_type": "execute_result"
    }
   ],
   "source": [
    "dosegment_all('苹果官网iPhone降价！WEB再次惊觉了神网友们的才华 一群同学 WLT, 记者说\"sub\",男子直接降掉0点了')"
   ]
  },
  {
   "cell_type": "code",
   "execution_count": 114,
   "metadata": {},
   "outputs": [],
   "source": [
    "df = df_train[df_train['Age'] != 0][df_train['Gender']!=0][df_train['Education']!=0]"
   ]
  },
  {
   "cell_type": "code",
   "execution_count": 115,
   "metadata": {
    "scrolled": true
   },
   "outputs": [
    {
     "name": "stdout",
     "output_type": "stream",
     "text": [
      "<class 'pandas.core.frame.DataFrame'>\n",
      "Int64Index: 88492 entries, 0 to 99999\n",
      "Data columns (total 5 columns):\n",
      "ID            88492 non-null object\n",
      "Age           88492 non-null int64\n",
      "Gender        88492 non-null int64\n",
      "Education     88492 non-null int64\n",
      "Query_List    88492 non-null object\n",
      "dtypes: int64(3), object(2)\n",
      "memory usage: 4.1+ MB\n"
     ]
    },
    {
     "data": {
      "text/plain": [
       "1    35965\n",
       "2    24785\n",
       "3    16561\n",
       "4     8967\n",
       "5     2039\n",
       "6      175\n",
       "Name: Age, dtype: int64"
      ]
     },
     "execution_count": 115,
     "metadata": {},
     "output_type": "execute_result"
    },
    {
     "data": {
      "text/plain": [
       "1    51540\n",
       "2    36952\n",
       "Name: Gender, dtype: int64"
      ]
     },
     "execution_count": 115,
     "metadata": {},
     "output_type": "execute_result"
    },
    {
     "data": {
      "text/plain": [
       "5    36852\n",
       "4    27956\n",
       "3    18708\n",
       "6     4066\n",
       "2      556\n",
       "1      354\n",
       "Name: Education, dtype: int64"
      ]
     },
     "execution_count": 115,
     "metadata": {},
     "output_type": "execute_result"
    }
   ],
   "source": [
    "df.info()\n",
    "for i in ['Age','Gender','Education']:\n",
    "    df[i].value_counts()"
   ]
  },
  {
   "cell_type": "code",
   "execution_count": 125,
   "metadata": {
    "scrolled": true
   },
   "outputs": [
    {
     "data": {
      "text/html": [
       "<div>\n",
       "<style scoped>\n",
       "    .dataframe tbody tr th:only-of-type {\n",
       "        vertical-align: middle;\n",
       "    }\n",
       "\n",
       "    .dataframe tbody tr th {\n",
       "        vertical-align: top;\n",
       "    }\n",
       "\n",
       "    .dataframe thead th {\n",
       "        text-align: right;\n",
       "    }\n",
       "</style>\n",
       "<table border=\"1\" class=\"dataframe\">\n",
       "  <thead>\n",
       "    <tr style=\"text-align: right;\">\n",
       "      <th></th>\n",
       "      <th>ID</th>\n",
       "      <th>Age</th>\n",
       "      <th>Gender</th>\n",
       "      <th>Education</th>\n",
       "      <th>Query_List</th>\n",
       "    </tr>\n",
       "  </thead>\n",
       "  <tbody>\n",
       "    <tr>\n",
       "      <th>0</th>\n",
       "      <td>22DD920316420BE2DF8D6EE651BA174B</td>\n",
       "      <td>1</td>\n",
       "      <td>1</td>\n",
       "      <td>4</td>\n",
       "      <td>柔和双沟女生中财网首页 财经WEB 司少的天价宝贝什么是遥控魔棒徽信表情动态搞笑图片教师节征...</td>\n",
       "    </tr>\n",
       "    <tr>\n",
       "      <th>1</th>\n",
       "      <td>43CC3AF5A8D6430A3B572337A889AFE4</td>\n",
       "      <td>2</td>\n",
       "      <td>1</td>\n",
       "      <td>3</td>\n",
       "      <td>广州厨宝烤箱世情薄,人情恶,雨送黄昏花易落,晓风干,泪痕厦门酒店用品批发市场我只是不想让你支...</td>\n",
       "    </tr>\n",
       "    <tr>\n",
       "      <th>3</th>\n",
       "      <td>6931EFC26D229CCFCEA125D3F3C21E57</td>\n",
       "      <td>4</td>\n",
       "      <td>2</td>\n",
       "      <td>3</td>\n",
       "      <td>最受欢迎狗狗排行榜舶怎么读场景描 写范例三维绘图软件枣和酸奶能一起吃吗好不壮观租衣服的网站动...</td>\n",
       "    </tr>\n",
       "    <tr>\n",
       "      <th>4</th>\n",
       "      <td>E780470C3BB0D340334BD08CDCC3C71A</td>\n",
       "      <td>2</td>\n",
       "      <td>2</td>\n",
       "      <td>4</td>\n",
       "      <td>干槽症能自愈吗太太万岁叶舒心去没去美国干槽症右眼皮下面一直跳是怎么回事麦当劳麦旋风的勺子吉林...</td>\n",
       "    </tr>\n",
       "    <tr>\n",
       "      <th>6</th>\n",
       "      <td>0D58894CD481D4B3039000661665C0DB</td>\n",
       "      <td>3</td>\n",
       "      <td>2</td>\n",
       "      <td>3</td>\n",
       "      <td>貔貅饲育指南韩姨贵阳学古琴洛基风速狗综英美]店主不好吃&gt;重生之被拐儿童寻家记锦里oppor7...</td>\n",
       "    </tr>\n",
       "    <tr>\n",
       "      <th>...</th>\n",
       "      <td>...</td>\n",
       "      <td>...</td>\n",
       "      <td>...</td>\n",
       "      <td>...</td>\n",
       "      <td>...</td>\n",
       "    </tr>\n",
       "    <tr>\n",
       "      <th>11309</th>\n",
       "      <td>D7ABBB63488E74212C2768340831F6F2</td>\n",
       "      <td>3</td>\n",
       "      <td>2</td>\n",
       "      <td>4</td>\n",
       "      <td>护肤101个小窍门人绒毛膜促性腺激素高徐香猕猴桃图片励志句子唯美简短好用不贵的手机流产后第五...</td>\n",
       "    </tr>\n",
       "    <tr>\n",
       "      <th>11310</th>\n",
       "      <td>ED75AD35E1994A0376A9A67BECADC64E</td>\n",
       "      <td>4</td>\n",
       "      <td>1</td>\n",
       "      <td>3</td>\n",
       "      <td>2016年9月6日21点16分出生男孩武动乾坤漫画腾讯会员是不是qq会员百度妖精的尾巴漫画4...</td>\n",
       "    </tr>\n",
       "    <tr>\n",
       "      <th>11311</th>\n",
       "      <td>F0182F1C14DA747372688F1488587669</td>\n",
       "      <td>1</td>\n",
       "      <td>1</td>\n",
       "      <td>5</td>\n",
       "      <td>去黑头收缩毛孔小妙招甩葱歌原版馆陶黑陶韦正汪远塌鼻子g180次列车粉丝要泡多久台球入门手势乐...</td>\n",
       "    </tr>\n",
       "    <tr>\n",
       "      <th>11312</th>\n",
       "      <td>EA8FB33BA69F3FEA624E798DD0437034</td>\n",
       "      <td>2</td>\n",
       "      <td>2</td>\n",
       "      <td>5</td>\n",
       "      <td>漳州城厢区大麦若叶的功效与作用给旅游相册取个名字蓝胖子横屏麻辣变形计演员表闽西八大干atm机...</td>\n",
       "    </tr>\n",
       "    <tr>\n",
       "      <th>11313</th>\n",
       "      <td>B11527E549FFEE6ADAFCE12FEAE1FFAE</td>\n",
       "      <td>1</td>\n",
       "      <td>1</td>\n",
       "      <td>5</td>\n",
       "      <td>鹧鸪飞 陆春龄简谱老干妈莲花山怎样毛豆自制草粿广州艺术博物院罗炳然 笛子广东有哪些名山笛子名...</td>\n",
       "    </tr>\n",
       "  </tbody>\n",
       "</table>\n",
       "<p>10000 rows × 5 columns</p>\n",
       "</div>"
      ],
      "text/plain": [
       "                                     ID  Age  Gender  Education  \\\n",
       "0      22DD920316420BE2DF8D6EE651BA174B    1       1          4   \n",
       "1      43CC3AF5A8D6430A3B572337A889AFE4    2       1          3   \n",
       "3      6931EFC26D229CCFCEA125D3F3C21E57    4       2          3   \n",
       "4      E780470C3BB0D340334BD08CDCC3C71A    2       2          4   \n",
       "6      0D58894CD481D4B3039000661665C0DB    3       2          3   \n",
       "...                                 ...  ...     ...        ...   \n",
       "11309  D7ABBB63488E74212C2768340831F6F2    3       2          4   \n",
       "11310  ED75AD35E1994A0376A9A67BECADC64E    4       1          3   \n",
       "11311  F0182F1C14DA747372688F1488587669    1       1          5   \n",
       "11312  EA8FB33BA69F3FEA624E798DD0437034    2       2          5   \n",
       "11313  B11527E549FFEE6ADAFCE12FEAE1FFAE    1       1          5   \n",
       "\n",
       "                                              Query_List  \n",
       "0      柔和双沟女生中财网首页 财经WEB 司少的天价宝贝什么是遥控魔棒徽信表情动态搞笑图片教师节征...  \n",
       "1      广州厨宝烤箱世情薄,人情恶,雨送黄昏花易落,晓风干,泪痕厦门酒店用品批发市场我只是不想让你支...  \n",
       "3      最受欢迎狗狗排行榜舶怎么读场景描 写范例三维绘图软件枣和酸奶能一起吃吗好不壮观租衣服的网站动...  \n",
       "4      干槽症能自愈吗太太万岁叶舒心去没去美国干槽症右眼皮下面一直跳是怎么回事麦当劳麦旋风的勺子吉林...  \n",
       "6      貔貅饲育指南韩姨贵阳学古琴洛基风速狗综英美]店主不好吃>重生之被拐儿童寻家记锦里oppor7...  \n",
       "...                                                  ...  \n",
       "11309  护肤101个小窍门人绒毛膜促性腺激素高徐香猕猴桃图片励志句子唯美简短好用不贵的手机流产后第五...  \n",
       "11310  2016年9月6日21点16分出生男孩武动乾坤漫画腾讯会员是不是qq会员百度妖精的尾巴漫画4...  \n",
       "11311  去黑头收缩毛孔小妙招甩葱歌原版馆陶黑陶韦正汪远塌鼻子g180次列车粉丝要泡多久台球入门手势乐...  \n",
       "11312  漳州城厢区大麦若叶的功效与作用给旅游相册取个名字蓝胖子横屏麻辣变形计演员表闽西八大干atm机...  \n",
       "11313  鹧鸪飞 陆春龄简谱老干妈莲花山怎样毛豆自制草粿广州艺术博物院罗炳然 笛子广东有哪些名山笛子名...  \n",
       "\n",
       "[10000 rows x 5 columns]"
      ]
     },
     "execution_count": 125,
     "metadata": {},
     "output_type": "execute_result"
    }
   ],
   "source": [
    "df = df[:10000]\n",
    "df\n",
    "df_train.to_csv('./data/10rawQueryList.csv',index=False)"
   ]
  },
  {
   "cell_type": "code",
   "execution_count": 126,
   "metadata": {},
   "outputs": [],
   "source": [
    "df['Query_List'] = df['Query_List'].apply(http_cov).apply(email_cov)"
   ]
  },
  {
   "cell_type": "code",
   "execution_count": 127,
   "metadata": {},
   "outputs": [
    {
     "data": {
      "text/html": [
       "<div>\n",
       "<style scoped>\n",
       "    .dataframe tbody tr th:only-of-type {\n",
       "        vertical-align: middle;\n",
       "    }\n",
       "\n",
       "    .dataframe tbody tr th {\n",
       "        vertical-align: top;\n",
       "    }\n",
       "\n",
       "    .dataframe thead th {\n",
       "        text-align: right;\n",
       "    }\n",
       "</style>\n",
       "<table border=\"1\" class=\"dataframe\">\n",
       "  <thead>\n",
       "    <tr style=\"text-align: right;\">\n",
       "      <th></th>\n",
       "      <th>ID</th>\n",
       "      <th>Age</th>\n",
       "      <th>Gender</th>\n",
       "      <th>Education</th>\n",
       "      <th>Query_List</th>\n",
       "    </tr>\n",
       "  </thead>\n",
       "  <tbody>\n",
       "    <tr>\n",
       "      <th>0</th>\n",
       "      <td>22DD920316420BE2DF8D6EE651BA174B</td>\n",
       "      <td>1</td>\n",
       "      <td>1</td>\n",
       "      <td>4</td>\n",
       "      <td>柔和双沟女生中财网首页 财经WEB 司少的天价宝贝什么是遥控魔棒徽信表情动态搞笑图片教师节征...</td>\n",
       "    </tr>\n",
       "    <tr>\n",
       "      <th>1</th>\n",
       "      <td>43CC3AF5A8D6430A3B572337A889AFE4</td>\n",
       "      <td>2</td>\n",
       "      <td>1</td>\n",
       "      <td>3</td>\n",
       "      <td>广州厨宝烤箱世情薄,人情恶,雨送黄昏花易落,晓风干,泪痕厦门酒店用品批发市场我只是不想让你支...</td>\n",
       "    </tr>\n",
       "    <tr>\n",
       "      <th>3</th>\n",
       "      <td>6931EFC26D229CCFCEA125D3F3C21E57</td>\n",
       "      <td>4</td>\n",
       "      <td>2</td>\n",
       "      <td>3</td>\n",
       "      <td>最受欢迎狗狗排行榜舶怎么读场景描 写范例三维绘图软件枣和酸奶能一起吃吗好不壮观租衣服的网站动...</td>\n",
       "    </tr>\n",
       "    <tr>\n",
       "      <th>4</th>\n",
       "      <td>E780470C3BB0D340334BD08CDCC3C71A</td>\n",
       "      <td>2</td>\n",
       "      <td>2</td>\n",
       "      <td>4</td>\n",
       "      <td>干槽症能自愈吗太太万岁叶舒心去没去美国干槽症右眼皮下面一直跳是怎么回事麦当劳麦旋风的勺子吉林...</td>\n",
       "    </tr>\n",
       "    <tr>\n",
       "      <th>6</th>\n",
       "      <td>0D58894CD481D4B3039000661665C0DB</td>\n",
       "      <td>3</td>\n",
       "      <td>2</td>\n",
       "      <td>3</td>\n",
       "      <td>貔貅饲育指南韩姨贵阳学古琴洛基风速狗综英美]店主不好吃&gt;重生之被拐儿童寻家记锦里oppor7...</td>\n",
       "    </tr>\n",
       "    <tr>\n",
       "      <th>...</th>\n",
       "      <td>...</td>\n",
       "      <td>...</td>\n",
       "      <td>...</td>\n",
       "      <td>...</td>\n",
       "      <td>...</td>\n",
       "    </tr>\n",
       "    <tr>\n",
       "      <th>11309</th>\n",
       "      <td>D7ABBB63488E74212C2768340831F6F2</td>\n",
       "      <td>3</td>\n",
       "      <td>2</td>\n",
       "      <td>4</td>\n",
       "      <td>护肤101个小窍门人绒毛膜促性腺激素高徐香猕猴桃图片励志句子唯美简短好用不贵的手机流产后第五...</td>\n",
       "    </tr>\n",
       "    <tr>\n",
       "      <th>11310</th>\n",
       "      <td>ED75AD35E1994A0376A9A67BECADC64E</td>\n",
       "      <td>4</td>\n",
       "      <td>1</td>\n",
       "      <td>3</td>\n",
       "      <td>2016年9月6日21点16分出生男孩武动乾坤漫画腾讯会员是不是qq会员百度妖精的尾巴漫画4...</td>\n",
       "    </tr>\n",
       "    <tr>\n",
       "      <th>11311</th>\n",
       "      <td>F0182F1C14DA747372688F1488587669</td>\n",
       "      <td>1</td>\n",
       "      <td>1</td>\n",
       "      <td>5</td>\n",
       "      <td>去黑头收缩毛孔小妙招甩葱歌原版馆陶黑陶韦正汪远塌鼻子g180次列车粉丝要泡多久台球入门手势乐...</td>\n",
       "    </tr>\n",
       "    <tr>\n",
       "      <th>11312</th>\n",
       "      <td>EA8FB33BA69F3FEA624E798DD0437034</td>\n",
       "      <td>2</td>\n",
       "      <td>2</td>\n",
       "      <td>5</td>\n",
       "      <td>漳州城厢区大麦若叶的功效与作用给旅游相册取个名字蓝胖子横屏麻辣变形计演员表闽西八大干atm机...</td>\n",
       "    </tr>\n",
       "    <tr>\n",
       "      <th>11313</th>\n",
       "      <td>B11527E549FFEE6ADAFCE12FEAE1FFAE</td>\n",
       "      <td>1</td>\n",
       "      <td>1</td>\n",
       "      <td>5</td>\n",
       "      <td>鹧鸪飞 陆春龄简谱老干妈莲花山怎样毛豆自制草粿广州艺术博物院罗炳然 笛子广东有哪些名山笛子名...</td>\n",
       "    </tr>\n",
       "  </tbody>\n",
       "</table>\n",
       "<p>10000 rows × 5 columns</p>\n",
       "</div>"
      ],
      "text/plain": [
       "                                     ID  Age  Gender  Education  \\\n",
       "0      22DD920316420BE2DF8D6EE651BA174B    1       1          4   \n",
       "1      43CC3AF5A8D6430A3B572337A889AFE4    2       1          3   \n",
       "3      6931EFC26D229CCFCEA125D3F3C21E57    4       2          3   \n",
       "4      E780470C3BB0D340334BD08CDCC3C71A    2       2          4   \n",
       "6      0D58894CD481D4B3039000661665C0DB    3       2          3   \n",
       "...                                 ...  ...     ...        ...   \n",
       "11309  D7ABBB63488E74212C2768340831F6F2    3       2          4   \n",
       "11310  ED75AD35E1994A0376A9A67BECADC64E    4       1          3   \n",
       "11311  F0182F1C14DA747372688F1488587669    1       1          5   \n",
       "11312  EA8FB33BA69F3FEA624E798DD0437034    2       2          5   \n",
       "11313  B11527E549FFEE6ADAFCE12FEAE1FFAE    1       1          5   \n",
       "\n",
       "                                              Query_List  \n",
       "0      柔和双沟女生中财网首页 财经WEB 司少的天价宝贝什么是遥控魔棒徽信表情动态搞笑图片教师节征...  \n",
       "1      广州厨宝烤箱世情薄,人情恶,雨送黄昏花易落,晓风干,泪痕厦门酒店用品批发市场我只是不想让你支...  \n",
       "3      最受欢迎狗狗排行榜舶怎么读场景描 写范例三维绘图软件枣和酸奶能一起吃吗好不壮观租衣服的网站动...  \n",
       "4      干槽症能自愈吗太太万岁叶舒心去没去美国干槽症右眼皮下面一直跳是怎么回事麦当劳麦旋风的勺子吉林...  \n",
       "6      貔貅饲育指南韩姨贵阳学古琴洛基风速狗综英美]店主不好吃>重生之被拐儿童寻家记锦里oppor7...  \n",
       "...                                                  ...  \n",
       "11309  护肤101个小窍门人绒毛膜促性腺激素高徐香猕猴桃图片励志句子唯美简短好用不贵的手机流产后第五...  \n",
       "11310  2016年9月6日21点16分出生男孩武动乾坤漫画腾讯会员是不是qq会员百度妖精的尾巴漫画4...  \n",
       "11311  去黑头收缩毛孔小妙招甩葱歌原版馆陶黑陶韦正汪远塌鼻子g180次列车粉丝要泡多久台球入门手势乐...  \n",
       "11312  漳州城厢区大麦若叶的功效与作用给旅游相册取个名字蓝胖子横屏麻辣变形计演员表闽西八大干atm机...  \n",
       "11313  鹧鸪飞 陆春龄简谱老干妈莲花山怎样毛豆自制草粿广州艺术博物院罗炳然 笛子广东有哪些名山笛子名...  \n",
       "\n",
       "[10000 rows x 5 columns]"
      ]
     },
     "execution_count": 127,
     "metadata": {},
     "output_type": "execute_result"
    }
   ],
   "source": [
    "df"
   ]
  },
  {
   "cell_type": "code",
   "execution_count": 128,
   "metadata": {},
   "outputs": [],
   "source": [
    "df['Query_List'] = df['Query_List'].apply(dosegment_all)"
   ]
  },
  {
   "cell_type": "code",
   "execution_count": 130,
   "metadata": {},
   "outputs": [
    {
     "data": {
      "text/html": [
       "<div>\n",
       "<style scoped>\n",
       "    .dataframe tbody tr th:only-of-type {\n",
       "        vertical-align: middle;\n",
       "    }\n",
       "\n",
       "    .dataframe tbody tr th {\n",
       "        vertical-align: top;\n",
       "    }\n",
       "\n",
       "    .dataframe thead th {\n",
       "        text-align: right;\n",
       "    }\n",
       "</style>\n",
       "<table border=\"1\" class=\"dataframe\">\n",
       "  <thead>\n",
       "    <tr style=\"text-align: right;\">\n",
       "      <th></th>\n",
       "      <th>ID</th>\n",
       "      <th>Age</th>\n",
       "      <th>Gender</th>\n",
       "      <th>Education</th>\n",
       "      <th>Query_List</th>\n",
       "    </tr>\n",
       "  </thead>\n",
       "  <tbody>\n",
       "    <tr>\n",
       "      <th>0</th>\n",
       "      <td>22DD920316420BE2DF8D6EE651BA174B</td>\n",
       "      <td>1</td>\n",
       "      <td>1</td>\n",
       "      <td>4</td>\n",
       "      <td>双沟,女生,财经,WEB,天价,魔棒,表情,动态,搞笑,图片,教师节,征文,营业厅,校草,未...</td>\n",
       "    </tr>\n",
       "    <tr>\n",
       "      <th>1</th>\n",
       "      <td>43CC3AF5A8D6430A3B572337A889AFE4</td>\n",
       "      <td>2</td>\n",
       "      <td>1</td>\n",
       "      <td>3</td>\n",
       "      <td>厨宝,烤箱,世情,人情,花易落,风干,泪痕,酒店用品,批发市场,不想,支付,无情,处女座,代...</td>\n",
       "    </tr>\n",
       "    <tr>\n",
       "      <th>2</th>\n",
       "      <td>6931EFC26D229CCFCEA125D3F3C21E57</td>\n",
       "      <td>4</td>\n",
       "      <td>2</td>\n",
       "      <td>3</td>\n",
       "      <td>受欢迎,狗狗,排行榜,场景,范例,绘图,软件,酸奶,衣服,网站,动漫,绘图,软件,妒羡,瀑布...</td>\n",
       "    </tr>\n",
       "    <tr>\n",
       "      <th>3</th>\n",
       "      <td>E780470C3BB0D340334BD08CDCC3C71A</td>\n",
       "      <td>2</td>\n",
       "      <td>2</td>\n",
       "      <td>4</td>\n",
       "      <td>干槽症,太太,没去,干槽症,眼皮,旋风,勺子,制药,股份,有限公司,脑络,胶囊,蛐蛐,蜂蜜,...</td>\n",
       "    </tr>\n",
       "    <tr>\n",
       "      <th>4</th>\n",
       "      <td>0D58894CD481D4B3039000661665C0DB</td>\n",
       "      <td>3</td>\n",
       "      <td>2</td>\n",
       "      <td>3</td>\n",
       "      <td>貔貅,饲育,指南,风速,店主,好吃,重生,儿童,oppor7,领养,神探,豪门,贵妇,守则,...</td>\n",
       "    </tr>\n",
       "    <tr>\n",
       "      <th>...</th>\n",
       "      <td>...</td>\n",
       "      <td>...</td>\n",
       "      <td>...</td>\n",
       "      <td>...</td>\n",
       "      <td>...</td>\n",
       "    </tr>\n",
       "    <tr>\n",
       "      <th>9995</th>\n",
       "      <td>D7ABBB63488E74212C2768340831F6F2</td>\n",
       "      <td>3</td>\n",
       "      <td>2</td>\n",
       "      <td>4</td>\n",
       "      <td>护肤,绒毛,猕猴桃,图片,励志,句子,简短,好用,手机,出血,增多,血块,绒毛,手机,官网,...</td>\n",
       "    </tr>\n",
       "    <tr>\n",
       "      <th>9996</th>\n",
       "      <td>ED75AD35E1994A0376A9A67BECADC64E</td>\n",
       "      <td>4</td>\n",
       "      <td>1</td>\n",
       "      <td>3</td>\n",
       "      <td>出生,男孩,武动,漫画,会员,qq,会员,百度,妖精,尾巴,漫画,手游,出生,baidu,漫...</td>\n",
       "    </tr>\n",
       "    <tr>\n",
       "      <th>9997</th>\n",
       "      <td>F0182F1C14DA747372688F1488587669</td>\n",
       "      <td>1</td>\n",
       "      <td>1</td>\n",
       "      <td>5</td>\n",
       "      <td>黑头,收缩,毛孔,原版,馆陶,塌鼻子,g180,次列车,粉丝,台球,手势,乐视,手机,刷机,...</td>\n",
       "    </tr>\n",
       "    <tr>\n",
       "      <th>9998</th>\n",
       "      <td>EA8FB33BA69F3FEA624E798DD0437034</td>\n",
       "      <td>2</td>\n",
       "      <td>2</td>\n",
       "      <td>5</td>\n",
       "      <td>大麦,功效,作用,相册,名字,胖子,横屏,变形,演员表,八大,atm,天猫,超市,快递,部队...</td>\n",
       "    </tr>\n",
       "    <tr>\n",
       "      <th>9999</th>\n",
       "      <td>B11527E549FFEE6ADAFCE12FEAE1FFAE</td>\n",
       "      <td>1</td>\n",
       "      <td>1</td>\n",
       "      <td>5</td>\n",
       "      <td>鹧鸪,毛豆,自制,艺术,博物院,笛子,名山,笛子,名曲,首谱,潮州人,拜神,ptf,改为,文...</td>\n",
       "    </tr>\n",
       "  </tbody>\n",
       "</table>\n",
       "<p>10000 rows × 5 columns</p>\n",
       "</div>"
      ],
      "text/plain": [
       "                                    ID  Age  Gender  Education  \\\n",
       "0     22DD920316420BE2DF8D6EE651BA174B    1       1          4   \n",
       "1     43CC3AF5A8D6430A3B572337A889AFE4    2       1          3   \n",
       "2     6931EFC26D229CCFCEA125D3F3C21E57    4       2          3   \n",
       "3     E780470C3BB0D340334BD08CDCC3C71A    2       2          4   \n",
       "4     0D58894CD481D4B3039000661665C0DB    3       2          3   \n",
       "...                                ...  ...     ...        ...   \n",
       "9995  D7ABBB63488E74212C2768340831F6F2    3       2          4   \n",
       "9996  ED75AD35E1994A0376A9A67BECADC64E    4       1          3   \n",
       "9997  F0182F1C14DA747372688F1488587669    1       1          5   \n",
       "9998  EA8FB33BA69F3FEA624E798DD0437034    2       2          5   \n",
       "9999  B11527E549FFEE6ADAFCE12FEAE1FFAE    1       1          5   \n",
       "\n",
       "                                             Query_List  \n",
       "0     双沟,女生,财经,WEB,天价,魔棒,表情,动态,搞笑,图片,教师节,征文,营业厅,校草,未...  \n",
       "1     厨宝,烤箱,世情,人情,花易落,风干,泪痕,酒店用品,批发市场,不想,支付,无情,处女座,代...  \n",
       "2     受欢迎,狗狗,排行榜,场景,范例,绘图,软件,酸奶,衣服,网站,动漫,绘图,软件,妒羡,瀑布...  \n",
       "3     干槽症,太太,没去,干槽症,眼皮,旋风,勺子,制药,股份,有限公司,脑络,胶囊,蛐蛐,蜂蜜,...  \n",
       "4     貔貅,饲育,指南,风速,店主,好吃,重生,儿童,oppor7,领养,神探,豪门,贵妇,守则,...  \n",
       "...                                                 ...  \n",
       "9995  护肤,绒毛,猕猴桃,图片,励志,句子,简短,好用,手机,出血,增多,血块,绒毛,手机,官网,...  \n",
       "9996  出生,男孩,武动,漫画,会员,qq,会员,百度,妖精,尾巴,漫画,手游,出生,baidu,漫...  \n",
       "9997  黑头,收缩,毛孔,原版,馆陶,塌鼻子,g180,次列车,粉丝,台球,手势,乐视,手机,刷机,...  \n",
       "9998  大麦,功效,作用,相册,名字,胖子,横屏,变形,演员表,八大,atm,天猫,超市,快递,部队...  \n",
       "9999  鹧鸪,毛豆,自制,艺术,博物院,笛子,名山,笛子,名曲,首谱,潮州人,拜神,ptf,改为,文...  \n",
       "\n",
       "[10000 rows x 5 columns]"
      ]
     },
     "execution_count": 130,
     "metadata": {},
     "output_type": "execute_result"
    }
   ],
   "source": [
    "df.to_csv('./data/Cut1WQueryList.csv',index=False)\n",
    "pd.read_csv('./data/Cut1WQueryList.csv')"
   ]
  },
  {
   "cell_type": "code",
   "execution_count": 93,
   "metadata": {},
   "outputs": [],
   "source": [
    "import jieba\n",
    "# # import jieba.analyse\n",
    "# df_train['Query_List'] = df_train['Query_List'].apply(dosegment_all)"
   ]
  },
  {
   "cell_type": "code",
   "execution_count": null,
   "metadata": {},
   "outputs": [],
   "source": [
    "df_train['Query_List']"
   ]
  },
  {
   "cell_type": "code",
   "execution_count": null,
   "metadata": {},
   "outputs": [],
   "source": [
    "df_train.to_csv('./data/10posgQueryList.csv',index=False)"
   ]
  },
  {
   "cell_type": "code",
   "execution_count": 50,
   "metadata": {},
   "outputs": [],
   "source": [
    "# import jieba\n",
    "# import jieba.analyse\n",
    "# sentences = jieba.lcut(df_train['Query_List'][0])\n",
    "# # jieba.analyse.extract_tags(sentences,topK=20)\n",
    "# sentences = ' '.join(sentences)\n",
    "# sentences.strip()\n",
    "# jieba.analyse.extract_tags(sentences,topK=20)"
   ]
  },
  {
   "cell_type": "code",
   "execution_count": 106,
   "metadata": {},
   "outputs": [],
   "source": [
    "from sklearn.model_selection import StratifiedKFold\n",
    "from sklearn.metrics import accuracy_score,precision_score\n",
    "import numpy as np\n",
    "from sklearn.naive_bayes import MultinomialNB,BernoulliNB\n",
    "from sklearn.svm import SVC\n",
    "from sklearn.feature_extraction.text import CountVectorizer,TfidfVectorizer\n",
    "from sklearn.model_selection import train_test_split"
   ]
  },
  {
   "cell_type": "code",
   "execution_count": 93,
   "metadata": {},
   "outputs": [],
   "source": [
    "df_train['Query_List'] = df_train['Query_List'].apply(lambda x : ' '.join(x))"
   ]
  },
  {
   "cell_type": "code",
   "execution_count": 102,
   "metadata": {},
   "outputs": [
    {
     "data": {
      "text/plain": [
       "TfidfVectorizer(analyzer='word', binary=False, decode_error='strict',\n",
       "                dtype=<class 'numpy.float64'>, encoding='utf-8',\n",
       "                input='content', lowercase=True, max_df=1.0, max_features=10000,\n",
       "                min_df=1, ngram_range=(1, 1), norm='l2', preprocessor=None,\n",
       "                smooth_idf=True, stop_words=None, strip_accents=None,\n",
       "                sublinear_tf=False, token_pattern='(?u)\\\\b\\\\w\\\\w+\\\\b',\n",
       "                tokenizer=None, use_idf=True, vocabulary=None)"
      ]
     },
     "execution_count": 102,
     "metadata": {},
     "output_type": "execute_result"
    }
   ],
   "source": [
    "X = df_train['Query_List'].values.tolist()\n",
    "Y = df_train['Age'].values.tolist()\n",
    "x_train,x_test,y_train,y_test = train_test_split(X,Y,random_state=22)\n",
    "vec = TfidfVectorizer(analyzer='word',max_features=10000)\n",
    "vec.fit(X)"
   ]
  },
  {
   "cell_type": "code",
   "execution_count": null,
   "metadata": {},
   "outputs": [
    {
     "name": "stdout",
     "output_type": "stream",
     "text": [
      "0.26819080442394533\n"
     ]
    }
   ],
   "source": [
    "def stratifiedkfold_cv(x,y,clf_class,shuffle=True,n_folds=5,**kwargs):\n",
    "    stratifiedk_fold=StratifiedKFold(n_splits=n_folds,shuffle=shuffle)\n",
    "    y_pred = y[:]\n",
    "    for train_index,test_index in stratifiedk_fold.split(x,y):\n",
    "        X_train,X_test = x[train_index],x[test_index]\n",
    "        y_train= y[train_index]\n",
    "        clf = clf_class(**kwargs)\n",
    "        clf.fit(X_train,y_train)\n",
    "        y_pred[test_index] = clf.predict(X_test)\n",
    "    return y_pred\n",
    "NB = MultinomialNB\n",
    "BR = BernoulliNB\n",
    "for i in [NB,BR]:\n",
    "    print(precision_score(Y,stratifiedkfold_cv(vec.transform(X),np.array(Y),i),average='macro'))"
   ]
  },
  {
   "cell_type": "code",
   "execution_count": null,
   "metadata": {},
   "outputs": [],
   "source": [
    "from gensim.models import word2vec"
   ]
  },
  {
   "cell_type": "code",
   "execution_count": null,
   "metadata": {},
   "outputs": [],
   "source": []
  }
 ],
 "metadata": {
  "kernelspec": {
   "display_name": "Python 3",
   "language": "python",
   "name": "python3"
  },
  "language_info": {
   "codemirror_mode": {
    "name": "ipython",
    "version": 3
   },
   "file_extension": ".py",
   "mimetype": "text/x-python",
   "name": "python",
   "nbconvert_exporter": "python",
   "pygments_lexer": "ipython3",
   "version": "3.6.8"
  },
  "toc": {
   "base_numbering": 1,
   "nav_menu": {},
   "number_sections": true,
   "sideBar": true,
   "skip_h1_title": false,
   "title_cell": "Table of Contents",
   "title_sidebar": "Contents",
   "toc_cell": false,
   "toc_position": {},
   "toc_section_display": true,
   "toc_window_display": false
  }
 },
 "nbformat": 4,
 "nbformat_minor": 2
}
