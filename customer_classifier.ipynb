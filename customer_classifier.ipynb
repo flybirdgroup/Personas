{
 "cells": [
  {
   "cell_type": "code",
   "execution_count": null,
   "metadata": {},
   "outputs": [],
   "source": [
    "import pandas as pd\n",
    "%config ZMQInteractiveShell.ast_node_interactivity='all'\n",
    "%pprint\n",
    "import warnings \n",
    "warnings.filterwarnings('ignore')"
   ]
  },
  {
   "cell_type": "code",
   "execution_count": 28,
   "metadata": {},
   "outputs": [],
   "source": [
    "import re\n",
    "import numpy as np\n",
    "import pandas as pd"
   ]
  },
  {
   "cell_type": "markdown",
   "metadata": {},
   "source": [
    "## 读取文本"
   ]
  },
  {
   "cell_type": "code",
   "execution_count": 3,
   "metadata": {},
   "outputs": [],
   "source": [
    "df_test = pd.read_csv('./data/test.csv',sep=\"###__###\",names=['ID','Query_List'])\n",
    "df_train = pd.read_csv('./data/train.csv',sep='###__###',names=['ID', 'Age', 'Gender', 'Education', 'Query_List'])"
   ]
  },
  {
   "cell_type": "code",
   "execution_count": 4,
   "metadata": {
    "scrolled": true
   },
   "outputs": [
    {
     "data": {
      "text/html": [
       "<div>\n",
       "<style scoped>\n",
       "    .dataframe tbody tr th:only-of-type {\n",
       "        vertical-align: middle;\n",
       "    }\n",
       "\n",
       "    .dataframe tbody tr th {\n",
       "        vertical-align: top;\n",
       "    }\n",
       "\n",
       "    .dataframe thead th {\n",
       "        text-align: right;\n",
       "    }\n",
       "</style>\n",
       "<table border=\"1\" class=\"dataframe\">\n",
       "  <thead>\n",
       "    <tr style=\"text-align: right;\">\n",
       "      <th></th>\n",
       "      <th>ID</th>\n",
       "      <th>Query_List</th>\n",
       "    </tr>\n",
       "  </thead>\n",
       "  <tbody>\n",
       "    <tr>\n",
       "      <th>0</th>\n",
       "      <td>ED89D43B9F602F96D96C25255F7C228C</td>\n",
       "      <td>陈学冬将出的作品\\t刘昊然与谭松韵\\t211学校的分数线\\t谁唱的味道好听\\t吻戏是真吻还是...</td>\n",
       "    </tr>\n",
       "    <tr>\n",
       "      <th>1</th>\n",
       "      <td>83C3B7B4AAF8074655A8079F561A76D6</td>\n",
       "      <td>e的0.0052次方\\tqq怎么快速提现\\t绝色倾城飞烟\\t马克思主义基本原理概论\\t康世恩...</td>\n",
       "    </tr>\n",
       "    <tr>\n",
       "      <th>2</th>\n",
       "      <td>CA9F675A024FB2353849350A35CF8B0F</td>\n",
       "      <td>黑暗文\\tlpl夏季赛\\t大富豪电玩城\\t英雄联盟之电竞称王\\t手机怎么扫描手机上的二维码\\...</td>\n",
       "    </tr>\n",
       "    <tr>\n",
       "      <th>3</th>\n",
       "      <td>DE45B5C4E57AAEBCF3FDFA2A774093BF</td>\n",
       "      <td>中秋水库钓鱼\\t鱼竿\\t用蚯蚓钓鱼怎样调漂\\t传统钓\\t3号鱼钩\\t鲫鱼汤的做法大全\\t鱼饵...</td>\n",
       "    </tr>\n",
       "    <tr>\n",
       "      <th>4</th>\n",
       "      <td>406A681FB3DF81EC0E561796AE50AE50</td>\n",
       "      <td>号码吉凶\\t退休干部死后配偶\\t郫县有哪些大学\\t胜利油田属于中石化还是中石油\\t苏珊米勒狮...</td>\n",
       "    </tr>\n",
       "  </tbody>\n",
       "</table>\n",
       "</div>"
      ],
      "text/plain": [
       "                                 ID  \\\n",
       "0  ED89D43B9F602F96D96C25255F7C228C   \n",
       "1  83C3B7B4AAF8074655A8079F561A76D6   \n",
       "2  CA9F675A024FB2353849350A35CF8B0F   \n",
       "3  DE45B5C4E57AAEBCF3FDFA2A774093BF   \n",
       "4  406A681FB3DF81EC0E561796AE50AE50   \n",
       "\n",
       "                                          Query_List  \n",
       "0  陈学冬将出的作品\\t刘昊然与谭松韵\\t211学校的分数线\\t谁唱的味道好听\\t吻戏是真吻还是...  \n",
       "1  e的0.0052次方\\tqq怎么快速提现\\t绝色倾城飞烟\\t马克思主义基本原理概论\\t康世恩...  \n",
       "2  黑暗文\\tlpl夏季赛\\t大富豪电玩城\\t英雄联盟之电竞称王\\t手机怎么扫描手机上的二维码\\...  \n",
       "3  中秋水库钓鱼\\t鱼竿\\t用蚯蚓钓鱼怎样调漂\\t传统钓\\t3号鱼钩\\t鲫鱼汤的做法大全\\t鱼饵...  \n",
       "4  号码吉凶\\t退休干部死后配偶\\t郫县有哪些大学\\t胜利油田属于中石化还是中石油\\t苏珊米勒狮...  "
      ]
     },
     "execution_count": 4,
     "metadata": {},
     "output_type": "execute_result"
    },
    {
     "data": {
      "text/html": [
       "<div>\n",
       "<style scoped>\n",
       "    .dataframe tbody tr th:only-of-type {\n",
       "        vertical-align: middle;\n",
       "    }\n",
       "\n",
       "    .dataframe tbody tr th {\n",
       "        vertical-align: top;\n",
       "    }\n",
       "\n",
       "    .dataframe thead th {\n",
       "        text-align: right;\n",
       "    }\n",
       "</style>\n",
       "<table border=\"1\" class=\"dataframe\">\n",
       "  <thead>\n",
       "    <tr style=\"text-align: right;\">\n",
       "      <th></th>\n",
       "      <th>ID</th>\n",
       "      <th>Age</th>\n",
       "      <th>Gender</th>\n",
       "      <th>Education</th>\n",
       "      <th>Query_List</th>\n",
       "    </tr>\n",
       "  </thead>\n",
       "  <tbody>\n",
       "    <tr>\n",
       "      <th>0</th>\n",
       "      <td>22DD920316420BE2DF8D6EE651BA174B</td>\n",
       "      <td>1</td>\n",
       "      <td>1</td>\n",
       "      <td>4</td>\n",
       "      <td>柔和双沟\\t女生\\t中财网首页 财经\\thttp://pan.baidu.com/s/1pl...</td>\n",
       "    </tr>\n",
       "    <tr>\n",
       "      <th>1</th>\n",
       "      <td>43CC3AF5A8D6430A3B572337A889AFE4</td>\n",
       "      <td>2</td>\n",
       "      <td>1</td>\n",
       "      <td>3</td>\n",
       "      <td>广州厨宝烤箱\\t世情薄,人情恶,雨送黄昏花易落,晓风干,泪痕\\t厦门酒店用品批发市场\\t我只...</td>\n",
       "    </tr>\n",
       "    <tr>\n",
       "      <th>2</th>\n",
       "      <td>E97654BFF5570E2CCD433EA6128EAC19</td>\n",
       "      <td>4</td>\n",
       "      <td>1</td>\n",
       "      <td>0</td>\n",
       "      <td>钻石之泪耳机\\t盘锦到沈阳\\t旅顺公交\\t辽宁阜新车牌\\tbaidu\\tk715\\tk716...</td>\n",
       "    </tr>\n",
       "    <tr>\n",
       "      <th>3</th>\n",
       "      <td>6931EFC26D229CCFCEA125D3F3C21E57</td>\n",
       "      <td>4</td>\n",
       "      <td>2</td>\n",
       "      <td>3</td>\n",
       "      <td>最受欢迎狗狗排行榜\\t舶怎么读\\t场景描 写范例\\t三维绘图软件\\t枣和酸奶能一起吃吗\\t好...</td>\n",
       "    </tr>\n",
       "    <tr>\n",
       "      <th>4</th>\n",
       "      <td>E780470C3BB0D340334BD08CDCC3C71A</td>\n",
       "      <td>2</td>\n",
       "      <td>2</td>\n",
       "      <td>4</td>\n",
       "      <td>干槽症能自愈吗\\t太太万岁叶舒心去没去美国\\t干槽症\\t右眼皮下面一直跳是怎么回事\\t麦当劳...</td>\n",
       "    </tr>\n",
       "    <tr>\n",
       "      <th>5</th>\n",
       "      <td>5BB424C7298B2CB67C368DDB73D4D336</td>\n",
       "      <td>4</td>\n",
       "      <td>2</td>\n",
       "      <td>0</td>\n",
       "      <td>钢琴曲欣赏100首\\t一个月的宝宝眼睫毛那么是黄色\\t宝宝右眼有眼屎\\t小儿抽搐怎么办\\t剖...</td>\n",
       "    </tr>\n",
       "    <tr>\n",
       "      <th>6</th>\n",
       "      <td>0D58894CD481D4B3039000661665C0DB</td>\n",
       "      <td>3</td>\n",
       "      <td>2</td>\n",
       "      <td>3</td>\n",
       "      <td>貔貅饲育指南\\t韩姨\\t贵阳学古琴\\t洛基\\t风速狗\\t综英美]店主不好吃\\t&gt;重生之被拐儿...</td>\n",
       "    </tr>\n",
       "    <tr>\n",
       "      <th>7</th>\n",
       "      <td>0BA56489237BC91353300BE44298C6D8</td>\n",
       "      <td>6</td>\n",
       "      <td>1</td>\n",
       "      <td>0</td>\n",
       "      <td>昂的笔顺\\t三年级上册数学口算\\t牛的英语怎么读\\t抓木机\\t60米差不多跑多长时间\\t似乎...</td>\n",
       "    </tr>\n",
       "    <tr>\n",
       "      <th>8</th>\n",
       "      <td>3D39C1B9312105E030B039CCDCD79611</td>\n",
       "      <td>1</td>\n",
       "      <td>1</td>\n",
       "      <td>5</td>\n",
       "      <td>李明霖在哪直播\\t英文翻译\\t薄荷籽\\t为什么搜狐视频不能缓存\\t有一首歌女生唱的歌词是冬天...</td>\n",
       "    </tr>\n",
       "    <tr>\n",
       "      <th>9</th>\n",
       "      <td>93174489E2E708BF6F797DC69F1531A8</td>\n",
       "      <td>1</td>\n",
       "      <td>1</td>\n",
       "      <td>5</td>\n",
       "      <td>bft20\\t龙王传说\\t长治到成都可以怎么坐火车\\t龙王传说txt\\t2 4 8 16老司...</td>\n",
       "    </tr>\n",
       "  </tbody>\n",
       "</table>\n",
       "</div>"
      ],
      "text/plain": [
       "                                 ID  Age  Gender  Education  \\\n",
       "0  22DD920316420BE2DF8D6EE651BA174B    1       1          4   \n",
       "1  43CC3AF5A8D6430A3B572337A889AFE4    2       1          3   \n",
       "2  E97654BFF5570E2CCD433EA6128EAC19    4       1          0   \n",
       "3  6931EFC26D229CCFCEA125D3F3C21E57    4       2          3   \n",
       "4  E780470C3BB0D340334BD08CDCC3C71A    2       2          4   \n",
       "5  5BB424C7298B2CB67C368DDB73D4D336    4       2          0   \n",
       "6  0D58894CD481D4B3039000661665C0DB    3       2          3   \n",
       "7  0BA56489237BC91353300BE44298C6D8    6       1          0   \n",
       "8  3D39C1B9312105E030B039CCDCD79611    1       1          5   \n",
       "9  93174489E2E708BF6F797DC69F1531A8    1       1          5   \n",
       "\n",
       "                                          Query_List  \n",
       "0  柔和双沟\\t女生\\t中财网首页 财经\\thttp://pan.baidu.com/s/1pl...  \n",
       "1  广州厨宝烤箱\\t世情薄,人情恶,雨送黄昏花易落,晓风干,泪痕\\t厦门酒店用品批发市场\\t我只...  \n",
       "2  钻石之泪耳机\\t盘锦到沈阳\\t旅顺公交\\t辽宁阜新车牌\\tbaidu\\tk715\\tk716...  \n",
       "3  最受欢迎狗狗排行榜\\t舶怎么读\\t场景描 写范例\\t三维绘图软件\\t枣和酸奶能一起吃吗\\t好...  \n",
       "4  干槽症能自愈吗\\t太太万岁叶舒心去没去美国\\t干槽症\\t右眼皮下面一直跳是怎么回事\\t麦当劳...  \n",
       "5  钢琴曲欣赏100首\\t一个月的宝宝眼睫毛那么是黄色\\t宝宝右眼有眼屎\\t小儿抽搐怎么办\\t剖...  \n",
       "6  貔貅饲育指南\\t韩姨\\t贵阳学古琴\\t洛基\\t风速狗\\t综英美]店主不好吃\\t>重生之被拐儿...  \n",
       "7  昂的笔顺\\t三年级上册数学口算\\t牛的英语怎么读\\t抓木机\\t60米差不多跑多长时间\\t似乎...  \n",
       "8  李明霖在哪直播\\t英文翻译\\t薄荷籽\\t为什么搜狐视频不能缓存\\t有一首歌女生唱的歌词是冬天...  \n",
       "9  bft20\\t龙王传说\\t长治到成都可以怎么坐火车\\t龙王传说txt\\t2 4 8 16老司...  "
      ]
     },
     "execution_count": 4,
     "metadata": {},
     "output_type": "execute_result"
    }
   ],
   "source": [
    "df_test.head()\n",
    "df_train.head(10)"
   ]
  },
  {
   "cell_type": "markdown",
   "metadata": {},
   "source": [
    "## 查看用户数据,看数据均衡"
   ]
  },
  {
   "cell_type": "code",
   "execution_count": 5,
   "metadata": {},
   "outputs": [
    {
     "name": "stdout",
     "output_type": "stream",
     "text": [
      "<class 'pandas.core.frame.DataFrame'>\n",
      "RangeIndex: 100000 entries, 0 to 99999\n",
      "Data columns (total 5 columns):\n",
      "ID            100000 non-null object\n",
      "Age           100000 non-null int64\n",
      "Gender        100000 non-null int64\n",
      "Education     100000 non-null int64\n",
      "Query_List    100000 non-null object\n",
      "dtypes: int64(3), object(2)\n",
      "memory usage: 3.8+ MB\n"
     ]
    },
    {
     "data": {
      "text/html": [
       "<div>\n",
       "<style scoped>\n",
       "    .dataframe tbody tr th:only-of-type {\n",
       "        vertical-align: middle;\n",
       "    }\n",
       "\n",
       "    .dataframe tbody tr th {\n",
       "        vertical-align: top;\n",
       "    }\n",
       "\n",
       "    .dataframe thead th {\n",
       "        text-align: right;\n",
       "    }\n",
       "</style>\n",
       "<table border=\"1\" class=\"dataframe\">\n",
       "  <thead>\n",
       "    <tr style=\"text-align: right;\">\n",
       "      <th></th>\n",
       "      <th>Age</th>\n",
       "      <th>Gender</th>\n",
       "      <th>Education</th>\n",
       "    </tr>\n",
       "  </thead>\n",
       "  <tbody>\n",
       "    <tr>\n",
       "      <th>mean</th>\n",
       "      <td>2.08231</td>\n",
       "      <td>1.38714</td>\n",
       "      <td>3.90333</td>\n",
       "    </tr>\n",
       "    <tr>\n",
       "      <th>sum</th>\n",
       "      <td>208231.00000</td>\n",
       "      <td>138714.00000</td>\n",
       "      <td>390333.00000</td>\n",
       "    </tr>\n",
       "    <tr>\n",
       "      <th>median</th>\n",
       "      <td>2.00000</td>\n",
       "      <td>1.00000</td>\n",
       "      <td>4.00000</td>\n",
       "    </tr>\n",
       "    <tr>\n",
       "      <th>count</th>\n",
       "      <td>100000.00000</td>\n",
       "      <td>100000.00000</td>\n",
       "      <td>100000.00000</td>\n",
       "    </tr>\n",
       "  </tbody>\n",
       "</table>\n",
       "</div>"
      ],
      "text/plain": [
       "                 Age        Gender     Education\n",
       "mean         2.08231       1.38714       3.90333\n",
       "sum     208231.00000  138714.00000  390333.00000\n",
       "median       2.00000       1.00000       4.00000\n",
       "count   100000.00000  100000.00000  100000.00000"
      ]
     },
     "execution_count": 5,
     "metadata": {},
     "output_type": "execute_result"
    },
    {
     "data": {
      "text/plain": [
       "1    38996\n",
       "2    26744\n",
       "3    18529\n",
       "4    10654\n",
       "5     2922\n",
       "0     1666\n",
       "6      489\n",
       "Name: Age, dtype: int64"
      ]
     },
     "execution_count": 5,
     "metadata": {},
     "output_type": "execute_result"
    },
    {
     "data": {
      "text/plain": [
       "1    56976\n",
       "2    40869\n",
       "0     2155\n",
       "Name: Gender, dtype: int64"
      ]
     },
     "execution_count": 5,
     "metadata": {},
     "output_type": "execute_result"
    },
    {
     "data": {
      "text/plain": [
       "5    37107\n",
       "4    28148\n",
       "3    18858\n",
       "0     9280\n",
       "6     5693\n",
       "2      560\n",
       "1      354\n",
       "Name: Education, dtype: int64"
      ]
     },
     "execution_count": 5,
     "metadata": {},
     "output_type": "execute_result"
    }
   ],
   "source": [
    "df_train.info() # 数据没有缺失值\n",
    "df_train[['Age','Gender','Education']].agg(['mean','sum','median','count']) \n",
    "for i in ['Age','Gender','Education']:\n",
    "    df_train[i].value_counts()\n",
    "\n",
    "# 数据在Age=1的比较多, Gender=1比较多,education在5比较多,可以看出样本总体不均衡,所以训练模型的时候需要切分"
   ]
  },
  {
   "cell_type": "code",
   "execution_count": 22,
   "metadata": {},
   "outputs": [
    {
     "data": {
      "text/plain": [
       "1232.69503"
      ]
     },
     "execution_count": 22,
     "metadata": {},
     "output_type": "execute_result"
    }
   ],
   "source": [
    "np.mean(df_train['Query_List'].agg(lambda x: len(x)))"
   ]
  },
  {
   "cell_type": "markdown",
   "metadata": {},
   "source": [
    "## 清洗数据"
   ]
  },
  {
   "cell_type": "code",
   "execution_count": 23,
   "metadata": {},
   "outputs": [
    {
     "data": {
      "text/html": [
       "<div>\n",
       "<style scoped>\n",
       "    .dataframe tbody tr th:only-of-type {\n",
       "        vertical-align: middle;\n",
       "    }\n",
       "\n",
       "    .dataframe tbody tr th {\n",
       "        vertical-align: top;\n",
       "    }\n",
       "\n",
       "    .dataframe thead th {\n",
       "        text-align: right;\n",
       "    }\n",
       "</style>\n",
       "<table border=\"1\" class=\"dataframe\">\n",
       "  <thead>\n",
       "    <tr style=\"text-align: right;\">\n",
       "      <th></th>\n",
       "      <th>ID</th>\n",
       "      <th>Age</th>\n",
       "      <th>Gender</th>\n",
       "      <th>Education</th>\n",
       "      <th>Query_List</th>\n",
       "    </tr>\n",
       "  </thead>\n",
       "  <tbody>\n",
       "    <tr>\n",
       "      <th>0</th>\n",
       "      <td>22DD920316420BE2DF8D6EE651BA174B</td>\n",
       "      <td>1</td>\n",
       "      <td>1</td>\n",
       "      <td>4</td>\n",
       "      <td>柔和双沟\\t女生\\t中财网首页 财经\\thttp://pan.baidu.com/s/1pl...</td>\n",
       "    </tr>\n",
       "    <tr>\n",
       "      <th>1</th>\n",
       "      <td>43CC3AF5A8D6430A3B572337A889AFE4</td>\n",
       "      <td>2</td>\n",
       "      <td>1</td>\n",
       "      <td>3</td>\n",
       "      <td>广州厨宝烤箱\\t世情薄,人情恶,雨送黄昏花易落,晓风干,泪痕\\t厦门酒店用品批发市场\\t我只...</td>\n",
       "    </tr>\n",
       "    <tr>\n",
       "      <th>2</th>\n",
       "      <td>E97654BFF5570E2CCD433EA6128EAC19</td>\n",
       "      <td>4</td>\n",
       "      <td>1</td>\n",
       "      <td>0</td>\n",
       "      <td>钻石之泪耳机\\t盘锦到沈阳\\t旅顺公交\\t辽宁阜新车牌\\tbaidu\\tk715\\tk716...</td>\n",
       "    </tr>\n",
       "    <tr>\n",
       "      <th>3</th>\n",
       "      <td>6931EFC26D229CCFCEA125D3F3C21E57</td>\n",
       "      <td>4</td>\n",
       "      <td>2</td>\n",
       "      <td>3</td>\n",
       "      <td>最受欢迎狗狗排行榜\\t舶怎么读\\t场景描 写范例\\t三维绘图软件\\t枣和酸奶能一起吃吗\\t好...</td>\n",
       "    </tr>\n",
       "    <tr>\n",
       "      <th>4</th>\n",
       "      <td>E780470C3BB0D340334BD08CDCC3C71A</td>\n",
       "      <td>2</td>\n",
       "      <td>2</td>\n",
       "      <td>4</td>\n",
       "      <td>干槽症能自愈吗\\t太太万岁叶舒心去没去美国\\t干槽症\\t右眼皮下面一直跳是怎么回事\\t麦当劳...</td>\n",
       "    </tr>\n",
       "    <tr>\n",
       "      <th>...</th>\n",
       "      <td>...</td>\n",
       "      <td>...</td>\n",
       "      <td>...</td>\n",
       "      <td>...</td>\n",
       "      <td>...</td>\n",
       "    </tr>\n",
       "    <tr>\n",
       "      <th>99995</th>\n",
       "      <td>E797FFCDCAF3899AB4D17B61170D8BFF</td>\n",
       "      <td>1</td>\n",
       "      <td>1</td>\n",
       "      <td>5</td>\n",
       "      <td>梦三生\\t逆行天后漫画结局\\t英雄联盟角色介绍大全\\t韩剧网最新韩国电视剧\\t119宣传语是...</td>\n",
       "    </tr>\n",
       "    <tr>\n",
       "      <th>99996</th>\n",
       "      <td>E06375F7D092ABDE78C2D79E4725D6B0</td>\n",
       "      <td>1</td>\n",
       "      <td>1</td>\n",
       "      <td>5</td>\n",
       "      <td>中国军队配枪\\t女生\\t央视版权问题\\t重庆\\t一次性手术刀\\t精神枷锁\\t人民检察官\\t舆...</td>\n",
       "    </tr>\n",
       "    <tr>\n",
       "      <th>99997</th>\n",
       "      <td>D55119CB0B9366B20974522B58C00912</td>\n",
       "      <td>2</td>\n",
       "      <td>2</td>\n",
       "      <td>5</td>\n",
       "      <td>英文翻译\\t幼儿园面试讲课\\t学前教育书第二版\\tshock to\\t幼儿园教师资格证面试讲...</td>\n",
       "    </tr>\n",
       "    <tr>\n",
       "      <th>99998</th>\n",
       "      <td>EB4DBBD602C6459A19A77F09035E170C</td>\n",
       "      <td>3</td>\n",
       "      <td>2</td>\n",
       "      <td>3</td>\n",
       "      <td>哈尔滨祖研中医院地址\\t指甲盖侧面的肉怎么是白色\\t补骨质有副作用吗\\t哈尔滨去呼兰\\t黑龙...</td>\n",
       "    </tr>\n",
       "    <tr>\n",
       "      <th>99999</th>\n",
       "      <td>61CF81DB79423CB89E5DAA752BC4D9DD</td>\n",
       "      <td>1</td>\n",
       "      <td>2</td>\n",
       "      <td>5</td>\n",
       "      <td>陈翔毛晓彤分手\\t青春偶像剧校园电影\\t九尾狐家族\\t王俊凯小说\\t女娲的成长日记女娲变身\\...</td>\n",
       "    </tr>\n",
       "  </tbody>\n",
       "</table>\n",
       "<p>100000 rows × 5 columns</p>\n",
       "</div>"
      ],
      "text/plain": [
       "                                     ID  Age  Gender  Education  \\\n",
       "0      22DD920316420BE2DF8D6EE651BA174B    1       1          4   \n",
       "1      43CC3AF5A8D6430A3B572337A889AFE4    2       1          3   \n",
       "2      E97654BFF5570E2CCD433EA6128EAC19    4       1          0   \n",
       "3      6931EFC26D229CCFCEA125D3F3C21E57    4       2          3   \n",
       "4      E780470C3BB0D340334BD08CDCC3C71A    2       2          4   \n",
       "...                                 ...  ...     ...        ...   \n",
       "99995  E797FFCDCAF3899AB4D17B61170D8BFF    1       1          5   \n",
       "99996  E06375F7D092ABDE78C2D79E4725D6B0    1       1          5   \n",
       "99997  D55119CB0B9366B20974522B58C00912    2       2          5   \n",
       "99998  EB4DBBD602C6459A19A77F09035E170C    3       2          3   \n",
       "99999  61CF81DB79423CB89E5DAA752BC4D9DD    1       2          5   \n",
       "\n",
       "                                              Query_List  \n",
       "0      柔和双沟\\t女生\\t中财网首页 财经\\thttp://pan.baidu.com/s/1pl...  \n",
       "1      广州厨宝烤箱\\t世情薄,人情恶,雨送黄昏花易落,晓风干,泪痕\\t厦门酒店用品批发市场\\t我只...  \n",
       "2      钻石之泪耳机\\t盘锦到沈阳\\t旅顺公交\\t辽宁阜新车牌\\tbaidu\\tk715\\tk716...  \n",
       "3      最受欢迎狗狗排行榜\\t舶怎么读\\t场景描 写范例\\t三维绘图软件\\t枣和酸奶能一起吃吗\\t好...  \n",
       "4      干槽症能自愈吗\\t太太万岁叶舒心去没去美国\\t干槽症\\t右眼皮下面一直跳是怎么回事\\t麦当劳...  \n",
       "...                                                  ...  \n",
       "99995  梦三生\\t逆行天后漫画结局\\t英雄联盟角色介绍大全\\t韩剧网最新韩国电视剧\\t119宣传语是...  \n",
       "99996  中国军队配枪\\t女生\\t央视版权问题\\t重庆\\t一次性手术刀\\t精神枷锁\\t人民检察官\\t舆...  \n",
       "99997  英文翻译\\t幼儿园面试讲课\\t学前教育书第二版\\tshock to\\t幼儿园教师资格证面试讲...  \n",
       "99998  哈尔滨祖研中医院地址\\t指甲盖侧面的肉怎么是白色\\t补骨质有副作用吗\\t哈尔滨去呼兰\\t黑龙...  \n",
       "99999  陈翔毛晓彤分手\\t青春偶像剧校园电影\\t九尾狐家族\\t王俊凯小说\\t女娲的成长日记女娲变身\\...  \n",
       "\n",
       "[100000 rows x 5 columns]"
      ]
     },
     "execution_count": 23,
     "metadata": {},
     "output_type": "execute_result"
    }
   ],
   "source": [
    "df_train"
   ]
  },
  {
   "cell_type": "markdown",
   "metadata": {},
   "source": [
    "### 读取停用词"
   ]
  },
  {
   "cell_type": "code",
   "execution_count": 62,
   "metadata": {
    "scrolled": true
   },
   "outputs": [],
   "source": [
    "stopwords = pd.read_csv('./data/stop.txt',sep='\\t',index_col=False,quoting=3,encoding='utf-8',names=['stopwords'])\n",
    "stopwords = stopwords['stopwords'].values"
   ]
  },
  {
   "cell_type": "markdown",
   "metadata": {},
   "source": [
    "### 清洗词函数"
   ]
  },
  {
   "cell_type": "code",
   "execution_count": 67,
   "metadata": {},
   "outputs": [],
   "source": [
    "# 1 思路: 用正则匹配有http或者www, 看看都是什么类型的,然后用离散型数值表示\n",
    "pattern_http = '((http|ftp|https):\\/\\/[\\w\\-_]+[\\w\\-_]+[\\w\\-\\.,@?^=%&:/~\\+#]*[\\w\\-\\@?^=%&/~\\+#]?)'\n",
    "def http_cov(text):\n",
    "    text = text.replace('ｗｗｗ．','www.').replace('．ｃｏｍ','.com').replace('\\t','')\n",
    "    text = re.sub(pattern_http,\"WEB\",text)\n",
    "    return text\n",
    "# 2 思路: 用正则匹配有邮箱地址, 然后用离散型数值表示\n",
    "def email_cov(text):\n",
    "    text = re.sub('([A-Za-z0-9\\u4e00-\\u9fa5]+@[a-zA-Z0-9_-]+(\\.[a-zA-Z0-9_-]+))','EML',text)\n",
    "    return text\n",
    "#to do 可以把各个专业领域的专业用词导入,做分词,使用jieba.load_userdict(file_name), jieba.cut(ori, HMM=False),\n",
    "# 词典格式和dict.txt一样，一个词占一行；每一行分三部分，一部分为词语，另一部分为词频，最后为词性（可省略），用空格隔开\n",
    "# 宜信普惠 7\n",
    "# 宜信 10\n",
    "# 极速模式 20\n",
    "# 汽车方面可以加入结巴,品牌对人群区分有影响\n",
    "# 分词与词性过滤 (只保留n,v,j)"
   ]
  },
  {
   "cell_type": "code",
   "execution_count": 68,
   "metadata": {
    "scrolled": true
   },
   "outputs": [],
   "source": [
    "df_train['Query_List'] = df_train['Query_List'].apply(http_cov).apply(email_cov)"
   ]
  },
  {
   "cell_type": "code",
   "execution_count": 76,
   "metadata": {},
   "outputs": [],
   "source": [
    "import jieba\n",
    "import jieba.analyse\n",
    "df_train['Query_List'] = df_train['Query_List'].apply(lambda x: [i for i in jieba.lcut(x) if i not in stopwords.tolist()])\n"
   ]
  },
  {
   "cell_type": "code",
   "execution_count": 77,
   "metadata": {},
   "outputs": [
    {
     "data": {
      "text/html": [
       "<div>\n",
       "<style scoped>\n",
       "    .dataframe tbody tr th:only-of-type {\n",
       "        vertical-align: middle;\n",
       "    }\n",
       "\n",
       "    .dataframe tbody tr th {\n",
       "        vertical-align: top;\n",
       "    }\n",
       "\n",
       "    .dataframe thead th {\n",
       "        text-align: right;\n",
       "    }\n",
       "</style>\n",
       "<table border=\"1\" class=\"dataframe\">\n",
       "  <thead>\n",
       "    <tr style=\"text-align: right;\">\n",
       "      <th></th>\n",
       "      <th>ID</th>\n",
       "      <th>Age</th>\n",
       "      <th>Gender</th>\n",
       "      <th>Education</th>\n",
       "      <th>Query_List</th>\n",
       "    </tr>\n",
       "  </thead>\n",
       "  <tbody>\n",
       "    <tr>\n",
       "      <th>0</th>\n",
       "      <td>22DD920316420BE2DF8D6EE651BA174B</td>\n",
       "      <td>1</td>\n",
       "      <td>1</td>\n",
       "      <td>4</td>\n",
       "      <td>[柔和, 双沟, 女生, 中财网, 首页,  , 财经, WEB, 周公, 解梦, 大全, ...</td>\n",
       "    </tr>\n",
       "    <tr>\n",
       "      <th>1</th>\n",
       "      <td>43CC3AF5A8D6430A3B572337A889AFE4</td>\n",
       "      <td>2</td>\n",
       "      <td>1</td>\n",
       "      <td>3</td>\n",
       "      <td>[广州, 厨宝, 烤箱, 世情, 薄, 人情, 恶, 雨送, 黄昏, 花易落, 晓, 风干,...</td>\n",
       "    </tr>\n",
       "    <tr>\n",
       "      <th>2</th>\n",
       "      <td>E97654BFF5570E2CCD433EA6128EAC19</td>\n",
       "      <td>4</td>\n",
       "      <td>1</td>\n",
       "      <td>0</td>\n",
       "      <td>[钻石, 之泪, 耳机, 盘锦, 沈阳, 旅顺, 公交, 辽宁, 阜新, 车牌, baidu...</td>\n",
       "    </tr>\n",
       "    <tr>\n",
       "      <th>3</th>\n",
       "      <td>6931EFC26D229CCFCEA125D3F3C21E57</td>\n",
       "      <td>4</td>\n",
       "      <td>2</td>\n",
       "      <td>3</td>\n",
       "      <td>[受欢迎, 狗狗, 排行榜, 舶, 读, 场景, 描,  , 写, 范例, 三维, 绘图, ...</td>\n",
       "    </tr>\n",
       "    <tr>\n",
       "      <th>4</th>\n",
       "      <td>E780470C3BB0D340334BD08CDCC3C71A</td>\n",
       "      <td>2</td>\n",
       "      <td>2</td>\n",
       "      <td>4</td>\n",
       "      <td>[干槽症, 自愈, 太太, 万岁, 叶, 舒心, 美国, 干槽症, 右, 眼皮, 跳, 怎么...</td>\n",
       "    </tr>\n",
       "    <tr>\n",
       "      <th>...</th>\n",
       "      <td>...</td>\n",
       "      <td>...</td>\n",
       "      <td>...</td>\n",
       "      <td>...</td>\n",
       "      <td>...</td>\n",
       "    </tr>\n",
       "    <tr>\n",
       "      <th>99995</th>\n",
       "      <td>E797FFCDCAF3899AB4D17B61170D8BFF</td>\n",
       "      <td>1</td>\n",
       "      <td>1</td>\n",
       "      <td>5</td>\n",
       "      <td>[梦, 三生, 逆行, 天后, 漫画, 结局, 英雄, 联盟, 角色, 介绍, 大全, 韩剧...</td>\n",
       "    </tr>\n",
       "    <tr>\n",
       "      <th>99996</th>\n",
       "      <td>E06375F7D092ABDE78C2D79E4725D6B0</td>\n",
       "      <td>1</td>\n",
       "      <td>1</td>\n",
       "      <td>5</td>\n",
       "      <td>[中国, 军队, 配枪, 女生, 央视, 版权, 重庆, 一次性, 手术刀, 精神枷锁, 检...</td>\n",
       "    </tr>\n",
       "    <tr>\n",
       "      <th>99997</th>\n",
       "      <td>D55119CB0B9366B20974522B58C00912</td>\n",
       "      <td>2</td>\n",
       "      <td>2</td>\n",
       "      <td>5</td>\n",
       "      <td>[英文翻译, 幼儿园, 面试, 讲课, 学前教育, 书, 版, shock,  , 幼儿园,...</td>\n",
       "    </tr>\n",
       "    <tr>\n",
       "      <th>99998</th>\n",
       "      <td>EB4DBBD602C6459A19A77F09035E170C</td>\n",
       "      <td>3</td>\n",
       "      <td>2</td>\n",
       "      <td>3</td>\n",
       "      <td>[哈尔滨, 祖研, 中, 医院地址, 指甲盖, 侧面, 肉, 白色, 补, 骨质, 副作用,...</td>\n",
       "    </tr>\n",
       "    <tr>\n",
       "      <th>99999</th>\n",
       "      <td>61CF81DB79423CB89E5DAA752BC4D9DD</td>\n",
       "      <td>1</td>\n",
       "      <td>2</td>\n",
       "      <td>5</td>\n",
       "      <td>[陈翔, 毛晓彤, 分手, 青春偶像, 剧, 校园, 电影, 九尾狐, 家族, 王俊凯, 小...</td>\n",
       "    </tr>\n",
       "  </tbody>\n",
       "</table>\n",
       "<p>100000 rows × 5 columns</p>\n",
       "</div>"
      ],
      "text/plain": [
       "                                     ID  Age  Gender  Education  \\\n",
       "0      22DD920316420BE2DF8D6EE651BA174B    1       1          4   \n",
       "1      43CC3AF5A8D6430A3B572337A889AFE4    2       1          3   \n",
       "2      E97654BFF5570E2CCD433EA6128EAC19    4       1          0   \n",
       "3      6931EFC26D229CCFCEA125D3F3C21E57    4       2          3   \n",
       "4      E780470C3BB0D340334BD08CDCC3C71A    2       2          4   \n",
       "...                                 ...  ...     ...        ...   \n",
       "99995  E797FFCDCAF3899AB4D17B61170D8BFF    1       1          5   \n",
       "99996  E06375F7D092ABDE78C2D79E4725D6B0    1       1          5   \n",
       "99997  D55119CB0B9366B20974522B58C00912    2       2          5   \n",
       "99998  EB4DBBD602C6459A19A77F09035E170C    3       2          3   \n",
       "99999  61CF81DB79423CB89E5DAA752BC4D9DD    1       2          5   \n",
       "\n",
       "                                              Query_List  \n",
       "0      [柔和, 双沟, 女生, 中财网, 首页,  , 财经, WEB, 周公, 解梦, 大全, ...  \n",
       "1      [广州, 厨宝, 烤箱, 世情, 薄, 人情, 恶, 雨送, 黄昏, 花易落, 晓, 风干,...  \n",
       "2      [钻石, 之泪, 耳机, 盘锦, 沈阳, 旅顺, 公交, 辽宁, 阜新, 车牌, baidu...  \n",
       "3      [受欢迎, 狗狗, 排行榜, 舶, 读, 场景, 描,  , 写, 范例, 三维, 绘图, ...  \n",
       "4      [干槽症, 自愈, 太太, 万岁, 叶, 舒心, 美国, 干槽症, 右, 眼皮, 跳, 怎么...  \n",
       "...                                                  ...  \n",
       "99995  [梦, 三生, 逆行, 天后, 漫画, 结局, 英雄, 联盟, 角色, 介绍, 大全, 韩剧...  \n",
       "99996  [中国, 军队, 配枪, 女生, 央视, 版权, 重庆, 一次性, 手术刀, 精神枷锁, 检...  \n",
       "99997  [英文翻译, 幼儿园, 面试, 讲课, 学前教育, 书, 版, shock,  , 幼儿园,...  \n",
       "99998  [哈尔滨, 祖研, 中, 医院地址, 指甲盖, 侧面, 肉, 白色, 补, 骨质, 副作用,...  \n",
       "99999  [陈翔, 毛晓彤, 分手, 青春偶像, 剧, 校园, 电影, 九尾狐, 家族, 王俊凯, 小...  \n",
       "\n",
       "[100000 rows x 5 columns]"
      ]
     },
     "execution_count": 77,
     "metadata": {},
     "output_type": "execute_result"
    }
   ],
   "source": [
    "df_train"
   ]
  },
  {
   "cell_type": "code",
   "execution_count": 50,
   "metadata": {},
   "outputs": [],
   "source": [
    "# import jieba\n",
    "# import jieba.analyse\n",
    "# sentences = jieba.lcut(df_train['Query_List'][0])\n",
    "# # jieba.analyse.extract_tags(sentences,topK=20)\n",
    "# sentences = ' '.join(sentences)\n",
    "# sentences.strip()\n",
    "# jieba.analyse.extract_tags(sentences,topK=20)"
   ]
  },
  {
   "cell_type": "code",
   "execution_count": 106,
   "metadata": {},
   "outputs": [],
   "source": [
    "from sklearn.model_selection import StratifiedKFold\n",
    "from sklearn.metrics import accuracy_score,precision_score\n",
    "import numpy as np\n",
    "from sklearn.naive_bayes import MultinomialNB,BernoulliNB\n",
    "from sklearn.svm import SVC\n",
    "from sklearn.feature_extraction.text import CountVectorizer,TfidfVectorizer\n",
    "from sklearn.model_selection import train_test_split"
   ]
  },
  {
   "cell_type": "code",
   "execution_count": 93,
   "metadata": {},
   "outputs": [],
   "source": [
    "df_train['Query_List'] = df_train['Query_List'].apply(lambda x : ' '.join(x))"
   ]
  },
  {
   "cell_type": "code",
   "execution_count": 102,
   "metadata": {},
   "outputs": [
    {
     "data": {
      "text/plain": [
       "TfidfVectorizer(analyzer='word', binary=False, decode_error='strict',\n",
       "                dtype=<class 'numpy.float64'>, encoding='utf-8',\n",
       "                input='content', lowercase=True, max_df=1.0, max_features=10000,\n",
       "                min_df=1, ngram_range=(1, 1), norm='l2', preprocessor=None,\n",
       "                smooth_idf=True, stop_words=None, strip_accents=None,\n",
       "                sublinear_tf=False, token_pattern='(?u)\\\\b\\\\w\\\\w+\\\\b',\n",
       "                tokenizer=None, use_idf=True, vocabulary=None)"
      ]
     },
     "execution_count": 102,
     "metadata": {},
     "output_type": "execute_result"
    }
   ],
   "source": [
    "X = df_train['Query_List'].values.tolist()\n",
    "Y = df_train['Age'].values.tolist()\n",
    "x_train,x_test,y_train,y_test = train_test_split(X,Y,random_state=22)\n",
    "vec = TfidfVectorizer(analyzer='word',max_features=10000)\n",
    "vec.fit(X)"
   ]
  },
  {
   "cell_type": "code",
   "execution_count": null,
   "metadata": {},
   "outputs": [
    {
     "name": "stdout",
     "output_type": "stream",
     "text": [
      "0.26819080442394533\n"
     ]
    }
   ],
   "source": [
    "def stratifiedkfold_cv(x,y,clf_class,shuffle=True,n_folds=5,**kwargs):\n",
    "    stratifiedk_fold=StratifiedKFold(n_splits=n_folds,shuffle=shuffle)\n",
    "    y_pred = y[:]\n",
    "    for train_index,test_index in stratifiedk_fold.split(x,y):\n",
    "        X_train,X_test = x[train_index],x[test_index]\n",
    "        y_train= y[train_index]\n",
    "        clf = clf_class(**kwargs)\n",
    "        clf.fit(X_train,y_train)\n",
    "        y_pred[test_index] = clf.predict(X_test)\n",
    "    return y_pred\n",
    "NB = MultinomialNB\n",
    "svm = SVC\n",
    "BR = BernoulliNB\n",
    "for i in [NB,svm,BR]:\n",
    "    print(precision_score(Y,stratifiedkfold_cv(vec.transform(X),np.array(Y),i),average='macro'))"
   ]
  },
  {
   "cell_type": "code",
   "execution_count": null,
   "metadata": {},
   "outputs": [],
   "source": [
    "from gensim.models import word2vec"
   ]
  },
  {
   "cell_type": "code",
   "execution_count": null,
   "metadata": {},
   "outputs": [],
   "source": []
  }
 ],
 "metadata": {
  "kernelspec": {
   "display_name": "Python 3",
   "language": "python",
   "name": "python3"
  },
  "language_info": {
   "codemirror_mode": {
    "name": "ipython",
    "version": 3
   },
   "file_extension": ".py",
   "mimetype": "text/x-python",
   "name": "python",
   "nbconvert_exporter": "python",
   "pygments_lexer": "ipython3",
   "version": "3.6.8"
  },
  "toc": {
   "base_numbering": 1,
   "nav_menu": {},
   "number_sections": true,
   "sideBar": true,
   "skip_h1_title": false,
   "title_cell": "Table of Contents",
   "title_sidebar": "Contents",
   "toc_cell": false,
   "toc_position": {},
   "toc_section_display": true,
   "toc_window_display": false
  }
 },
 "nbformat": 4,
 "nbformat_minor": 2
}
